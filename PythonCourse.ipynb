{
 "cells": [
  {
   "cell_type": "markdown",
   "metadata": {
    "slideshow": {
     "slide_type": "slide"
    }
   },
   "source": [
    "<img src=\"imagenes/logo.jpg\">\n"
   ]
  },
  {
   "cell_type": "markdown",
   "metadata": {
    "slideshow": {
     "slide_type": "slide"
    }
   },
   "source": [
    "## Program\n",
    "* Preliminars:\n",
    "  * What's python?\n",
    "  * Why python?\n",
    "  * Installing python\n",
    "  * `jupyter` notebook basics\n",
    "* Python language:\n",
    "  * Basic syntax \n",
    "    * Strings\n",
    "    * dicts and lists\n",
    "    * list comprehensions\n",
    "    * Getting help\n",
    "    * Input output with files \n",
    "  * First example MINST\n",
    "  * modules and packages (`PYTHONPATH` variable)\n",
    "  * Variables are *names*\n",
    "  * *Everything* is an object\n",
    "* `numpy`:\n",
    "  * read image\n",
    "  * statistics\n",
    "  * transform image\n",
    "  * `np.linalg.*`\n",
    "* `matplotlib`:\n",
    "  * plot image\n",
    "  * histogram\n",
    "* `scikit-learn`:\n",
    "  * predict label on image\n",
    "  * show prediction (accuracy, kappa, confussion matrix)\n",
    "* `pandas`:\n",
    "  * table of statistics\n",
    "* Rasters\n",
    "  * read rasters\n",
    "  * plot coordinate information with folium\n",
    "* `jupyter` tricks:\n",
    "  * export with templates.\n",
    "  * running jupyter on a server via `ssh`.\n",
    "  "
   ]
  },
  {
   "cell_type": "markdown",
   "metadata": {
    "slideshow": {
     "slide_type": "slide"
    }
   },
   "source": [
    "### What's python?"
   ]
  },
  {
   "cell_type": "markdown",
   "metadata": {
    "slideshow": {
     "slide_type": "slide"
    }
   },
   "source": [
    "### Why python?\n",
    "Specifically dessigned to be:\n",
    "* Easy to read\n",
    "* Easy to learn\n",
    "* Easy to maintain\n",
    "* It can be easily integrated with C, C++ and Java.\n",
    "* **It has a great ecosystem of packages** for scientific computing, for scripting and for web development."
   ]
  },
  {
   "cell_type": "markdown",
   "metadata": {
    "collapsed": true,
    "slideshow": {
     "slide_type": "notes"
    }
   },
   "source": [
    "Give a taste of the ready to use packages..."
   ]
  },
  {
   "cell_type": "markdown",
   "metadata": {
    "slideshow": {
     "slide_type": "slide"
    }
   },
   "source": [
    "Scientific (core) packages:\n",
    "* [numpy](http://www.numpy.org/): for eficient and easy to read/write matrix manipulation (inspired by Matlab)\n",
    "* [matplotlib](http://matplotlib.org/): for graphics (also inspired by Matlab)\n",
    "* [pandas](http://pandas.pydata.org/): for tabular (DataFrame) structures (like R's Dataframe).\n",
    "* [scikit-learn](http://scikit-learn.org/stable/): for machine learning algorithms (really good documentation). [example](http://scikit-learn.org/stable/modules/svm.html)"
   ]
  },
  {
   "cell_type": "markdown",
   "metadata": {
    "slideshow": {
     "slide_type": "notes"
    }
   },
   "source": [
    "Highlight the example is easy to understand.\n"
   ]
  },
  {
   "cell_type": "markdown",
   "metadata": {
    "slideshow": {
     "slide_type": "slide"
    }
   },
   "source": [
    "Scientific (good to know) packages:\n",
    "* [bokeh](http://bokeh.pydata.org/en/latest/docs/user_guide/quickstart.html) library for interactive graphics\n",
    "* [seaborn](http://stanford.edu/~mwaskom/software/seaborn/tutorial/regression.html) highlevel graphics based on matplotlib.\n",
    "* Deep learning (using GPU):\n",
    "  * [Theano](http://www.deeplearning.net/software/theano/).\n",
    "  * [Tensorflow](https://www.tensorflow.org/) the one released by google.\n",
    "  * [keras](https://keras.io/) built on top of Theano or TensorFlow. It comes with [Pretrained CNN](https://keras.io/applications/).\n",
    "* [GPy](http://sheffieldml.github.io/GPy/). For gaussian processes.\n",
    "* [numba](http://numba.pydata.org/) for highly efficient python code.\n",
    "* [sympy](http://docs.sympy.org/latest/install.html#run-sympy) symbolic maths (derivatives, integrals, limits...)\n",
    "* [cvx](http://cvxopt.org/userguide/solvers.html) convex optimization.\n",
    "\n",
    "GIS and teledection:\n",
    "* gdal, [rasterio](https://github.com/mapbox/rasterio) io with rasters.\n",
    "* [Folium](https://github.com/python-visualization/folium). leaflet maps.\n"
   ]
  },
  {
   "cell_type": "markdown",
   "metadata": {
    "slideshow": {
     "slide_type": "slide"
    }
   },
   "source": [
    "Images, computer vision:\n",
    "* PIL (pillow) open, resize images.\n",
    "* [scikit-image](http://scikit-image.org/)\n",
    "* [cv2](http://opencv-python-tutroals.readthedocs.io/en/latest/index.html) OpenCV highly optimized computer vision library\n",
    "\n",
    "Web development packages:\n",
    "* [Flask](http://flask.pocoo.org/). servidor web lightweight.\n",
    "* [Jinja2](http://jinja.pocoo.org/docs/dev/). templates (generating documents, webs)\n",
    "\n",
    "Other:\n",
    "* [luigi](http://luigi.readthedocs.io/en/stable/) pipelines of batch jobs\n"
   ]
  },
  {
   "cell_type": "code",
   "execution_count": null,
   "metadata": {
    "collapsed": true,
    "slideshow": {
     "slide_type": "subslide"
    }
   },
   "outputs": [],
   "source": [
    "# %load server.py\n",
    "from flask import Flask\n",
    "app = Flask(__name__)\n",
    "\n",
    "@app.route(\"/\")\n",
    "def hello():\n",
    "    return \"Hello IPL!\"\n",
    "\n",
    "if __name__ == \"__main__\":\n",
    "    app.run(port=6969, host=\"0.0.0.0\")\n"
   ]
  },
  {
   "cell_type": "markdown",
   "metadata": {
    "slideshow": {
     "slide_type": "-"
    }
   },
   "source": [
    "Click: http://asuranceturix.uv.es:6969/"
   ]
  },
  {
   "cell_type": "markdown",
   "metadata": {
    "slideshow": {
     "slide_type": "notes"
    }
   },
   "source": [
    "flask demonstration.\n",
    "\n",
    "For me the main reason to use python is to use all these packages under the same environment."
   ]
  },
  {
   "cell_type": "markdown",
   "metadata": {
    "slideshow": {
     "slide_type": "slide"
    }
   },
   "source": [
    "## Installing python\n",
    "### Getting started with conda, anaconda...\n",
    "`conda` is a package manager. Anaconda is a set of (~150) python packages for *scientific python*. \n",
    "\n",
    "* Download & install python 3.5 anaconda: https://www.continuum.io/downloads (The 150 packages together with conda package manager).\n",
    "* Download repository of the talk:\n",
    "* Open terminal in the folder of the repository of the talk.\n",
    "* Execute: `conda env create -f environment.yml --name charla_python`\n",
    "* Execute: \n",
    "   * `source activate charla_python` (Linux, OS X)\n",
    "   * `activate charla_python` (Windows)\n",
    "* Execute: `jupyter notebook` and select the notebook xxxx. "
   ]
  },
  {
   "cell_type": "markdown",
   "metadata": {
    "slideshow": {
     "slide_type": "subslide"
    }
   },
   "source": [
    "Resources:\n",
    "* [docs](http://conda.pydata.org/docs/)\n",
    "* [conda cheatsheet](http://conda.pydata.org/docs/_downloads/conda-cheatsheet.pdf).\n",
    "* [Reasons to use conda](http://stiglerdiet.com/blog/2015/Nov/24/my-python-environment-workflow-with-conda/)"
   ]
  },
  {
   "cell_type": "markdown",
   "metadata": {
    "slideshow": {
     "slide_type": "slide"
    }
   },
   "source": [
    "\n",
    "## jupyter *basic* usage\n",
    "\n",
    "* `Insert` > `Cell Above` / `Cell Bellow`\n",
    "* `Edit` > `Split Cell` / `Move Cell Up/Down`\n",
    "* `Help` > [`Markdown syntax help`](https://help.github.com/articles/basic-writing-and-formatting-syntax/). <span class=\"alert alert-info\">In markdown cells you can embed </span> <span class=\"alert alert-danger\"> HMTL</span>\n",
    "* Double click on the cell to edit the content and see the source\n",
    "* In markdown cells you can write $\\LaTeX$ equations:\n",
    "$$ \\mathcal{L}(\\omega) = \\sum_{i=0}^N \\Big(f(x_i;\\omega)-y_i\\Big)^2 $$\n",
    "* `Cell` > `Cell type` to distinguish between code cells and text (markdown) cells.\n",
    "* `File` > `Download as` > `HTML` to download the content of the notebook as a plain HMTL.\n",
    "* This presentation is done in jupyter:\n",
    "\n",
    "`\n",
    "jupyter nbconvert --to slides PythonCourse.ipynb --reveal-prefix=reveal.js --post serve\n",
    "`\n"
   ]
  },
  {
   "cell_type": "markdown",
   "metadata": {
    "slideshow": {
     "slide_type": "slide"
    }
   },
   "source": [
    "## Python Zen Principles"
   ]
  },
  {
   "cell_type": "code",
   "execution_count": 1,
   "metadata": {
    "collapsed": false,
    "slideshow": {
     "slide_type": "-"
    }
   },
   "outputs": [
    {
     "name": "stdout",
     "output_type": "stream",
     "text": [
      "The Zen of Python, by Tim Peters\n",
      "\n",
      "Beautiful is better than ugly.\n",
      "Explicit is better than implicit.\n",
      "Simple is better than complex.\n",
      "Complex is better than complicated.\n",
      "Flat is better than nested.\n",
      "Sparse is better than dense.\n",
      "Readability counts.\n",
      "Special cases aren't special enough to break the rules.\n",
      "Although practicality beats purity.\n",
      "Errors should never pass silently.\n",
      "Unless explicitly silenced.\n",
      "In the face of ambiguity, refuse the temptation to guess.\n",
      "There should be one-- and preferably only one --obvious way to do it.\n",
      "Although that way may not be obvious at first unless you're Dutch.\n",
      "Now is better than never.\n",
      "Although never is often better than *right* now.\n",
      "If the implementation is hard to explain, it's a bad idea.\n",
      "If the implementation is easy to explain, it may be a good idea.\n",
      "Namespaces are one honking great idea -- let's do more of those!\n"
     ]
    }
   ],
   "source": [
    "import this"
   ]
  },
  {
   "cell_type": "markdown",
   "metadata": {
    "slideshow": {
     "slide_type": "slide"
    }
   },
   "source": [
    "## Basic syntax notebook"
   ]
  },
  {
   "cell_type": "markdown",
   "metadata": {
    "slideshow": {
     "slide_type": "slide"
    }
   },
   "source": [
    "### Input output with files\n",
    "* `os` module (https://docs.python.org/3.5/library/os.html).\n",
    "* `with` notation."
   ]
  },
  {
   "cell_type": "code",
   "execution_count": 64,
   "metadata": {
    "collapsed": false,
    "slideshow": {
     "slide_type": "subslide"
    }
   },
   "outputs": [
    {
     "name": "stdout",
     "output_type": "stream",
     "text": [
      "/home/gonmagar/python_course\n",
      "['26_Agosto_1.pdf', 'titulo_ingles_IELTS.pdf', '26_Agosto_2.pdf']\n"
     ]
    }
   ],
   "source": [
    "import os\n",
    "os.path.exists(\"server.py\")\n",
    "\n",
    "home_dir = os.getenv(\"HOME\") ## setenv\n",
    "\n",
    "print(os.getcwd())\n",
    "\n",
    "dir_documents_contents  = os.listdir(os.path.join(os.getenv(\"HOME\"),\"Documents\")) # path.join listdir\n",
    "print(dir_documents_contents[1:4])"
   ]
  },
  {
   "cell_type": "code",
   "execution_count": 73,
   "metadata": {
    "collapsed": false,
    "slideshow": {
     "slide_type": "subslide"
    }
   },
   "outputs": [
    {
     "name": "stdout",
     "output_type": "stream",
     "text": [
      "['titulo_matematicas.pdf\\n', '26_Agosto_1.pdf\\n', 'titulo_ingles_IELTS.pdf\\n', '26_Agosto_2.pdf\\n', 'titulo_informatica.pdf\\n', 'ProductCustomization.cfg\\n', 'MATLAB\\n', '1deMayo.pdf\\n', 'recibo_bankia.pdf\\n', 'BBVA TPV Virtual.pdf\\n', 'Billete_1_23_25_sept.pdf\\n', 'titulo_master.pdf\\n', 'SNAP\\n', 'suplemento_matematicas.pdf\\n', 'Billete_2_23_25_sept.pdf\\n', 'solicitud_certificacion_academica_personal.pdf\\n', 'pago_travesia_xabia.pdf\\n', 'supemento_informatica.pdf\\n']\n"
     ]
    }
   ],
   "source": [
    "salida = \"salida.txt\"\n",
    "# Write lines\n",
    "with open(salida,\"w\") as f:\n",
    "    f.writelines([doccont+\"\\n\" for doccont in dir_documents_contents])\n",
    "\n",
    "# Read all lines\n",
    "with open(salida,\"r\") as r:\n",
    "    lineas = r.readlines()\n",
    "\n",
    "print(lineas)"
   ]
  },
  {
   "cell_type": "markdown",
   "metadata": {
    "slideshow": {
     "slide_type": "slide"
    }
   },
   "source": [
    "### Reading data from web\n",
    "Download the html from a web. See [scrappy](https://scrapy.org/) for more \"professional\" web scrapping or [requests](https://requests.readthedocs.io/en/master/)."
   ]
  },
  {
   "cell_type": "code",
   "execution_count": 33,
   "metadata": {
    "collapsed": false,
    "slideshow": {
     "slide_type": "-"
    }
   },
   "outputs": [
    {
     "data": {
      "text/plain": [
       "b'<!DOCTYPE html>\\n<html lang=\"en\">\\n  <head>\\n    <meta charset=\"utf-8\">\\n    <meta http-equiv=\"X-UA-Compatible\" content=\"IE=edge\">\\n    <meta name=\"viewport\" content=\"width=device-width, initial-scale=1\">\\n    <!-- The above 3 meta tags *must* come first in the head; any other head content must come *after* these tags -->\\n    <meta name=\"description\" content=\"\">\\n    <meta name=\"author\" content=\"\">\\n    <link rel=\"icon\" href=\"../../favicon.ico\">\\n\\n    <title>ISP - Image and Signal Processing group</title>\\n\\n    <!-- Bootstrap core CSS -->\\n    <link href=\"css/bootstrap.min.css\" rel=\"stylesheet\">\\n    <!-- Bootstrap theme -->\\n    <link href=\"css/bootstrap-theme.min.css\" rel=\"stylesheet\">\\n\\n    <!-- Custom'"
      ]
     },
     "execution_count": 33,
     "metadata": {},
     "output_type": "execute_result"
    }
   ],
   "source": [
    "import urllib.request\n",
    "req = urllib.request.urlopen('http://isp.uv.es/')\n",
    "data = req.read()\n",
    "data[0:700]\n",
    "\n",
    "# Display data as HTML!!!\n",
    "# from IPython.display import HTML,display\n",
    "# display(HTML(\"<iframe>\"+str(data)+\"</iframe>\"))"
   ]
  },
  {
   "cell_type": "markdown",
   "metadata": {
    "slideshow": {
     "slide_type": "slide"
    }
   },
   "source": [
    "### Preparing for the exercises\n",
    "\n",
    "Code for downloading the data of [dogs vs cats kaggle competition](https://www.kaggle.com/c/dogs-vs-cats-redux-kernels-edition)."
   ]
  },
  {
   "cell_type": "code",
   "execution_count": 55,
   "metadata": {
    "collapsed": false,
    "slideshow": {
     "slide_type": "-"
    }
   },
   "outputs": [
    {
     "name": "stdout",
     "output_type": "stream",
     "text": [
      "data file train.zip has already been downloaded\n"
     ]
    }
   ],
   "source": [
    "# urllib.request.urlretrieve('http://example.com/big.zip', 'file/on/disk.zip')\n",
    "train_file = \"train.zip\"\n",
    "# Download data\n",
    "\n",
    "if not os.path.exists(train_file):\n",
    "    urllib.request.urlretrieve(\"https://www.dropbox.com/s/8lbkqktfofzjraj/train.zip?raw=1\", train_file)\n",
    "    print(\"Done\")\n",
    "else:\n",
    "    print(\"data file {} has already been downloaded\".format(train_file))\n"
   ]
  },
  {
   "cell_type": "code",
   "execution_count": 56,
   "metadata": {
    "collapsed": false,
    "slideshow": {
     "slide_type": "subslide"
    }
   },
   "outputs": [
    {
     "name": "stdout",
     "output_type": "stream",
     "text": [
      "Data has already been extracted\n"
     ]
    }
   ],
   "source": [
    "# unzip files\n",
    "import zipfile\n",
    "\n",
    "# If folder train does not exists extract all elements\n",
    "train_folder = \"train\"\n",
    "if not os.path.exists(train_folder):\n",
    "    with zipfile.ZipFile(train_file, 'r') as myzip:\n",
    "        myzip.extractall()\n",
    "    print(\"Extracted\")\n",
    "else:\n",
    "    print(\"Data has already been extracted\")\n",
    "    \n",
    "all_files = os.listdir(\"train\")\n",
    "# all_files"
   ]
  },
  {
   "cell_type": "markdown",
   "metadata": {
    "slideshow": {
     "slide_type": "slide"
    }
   },
   "source": [
    "### Exercise 1\n",
    "Retrieve a list with only dog files."
   ]
  },
  {
   "cell_type": "code",
   "execution_count": 18,
   "metadata": {
    "collapsed": false,
    "slideshow": {
     "slide_type": "subslide"
    }
   },
   "outputs": [
    {
     "name": "stdout",
     "output_type": "stream",
     "text": [
      "12500\n"
     ]
    }
   ],
   "source": [
    "# \"standard\" solution:\n",
    "dog_files = []\n",
    "for fil in all_files:\n",
    "    if 'dog' in fil:\n",
    "        dog_files.append(fil)\n",
    "print(len(dog_files))"
   ]
  },
  {
   "cell_type": "code",
   "execution_count": 19,
   "metadata": {
    "collapsed": false,
    "slideshow": {
     "slide_type": "-"
    }
   },
   "outputs": [
    {
     "name": "stdout",
     "output_type": "stream",
     "text": [
      "12500\n"
     ]
    }
   ],
   "source": [
    "# \"list comprenhension\" solution:\n",
    "dog_files = [fil for fil in all_files if 'dog' in fil]\n",
    "print(len(dog_files))"
   ]
  },
  {
   "cell_type": "code",
   "execution_count": 52,
   "metadata": {
    "collapsed": false,
    "slideshow": {
     "slide_type": "-"
    }
   },
   "outputs": [
    {
     "name": "stdout",
     "output_type": "stream",
     "text": [
      "12500\n"
     ]
    }
   ],
   "source": [
    "# Cheating solution:\n",
    "import glob\n",
    "\n",
    "dog_files = glob.glob(\"train/dog*.jpg\")\n",
    "print(len(dog_files))"
   ]
  },
  {
   "cell_type": "markdown",
   "metadata": {
    "slideshow": {
     "slide_type": "slide"
    }
   },
   "source": [
    " ### Exercise 2\n",
    " Display an image using `Image` from `Ipython.display`"
   ]
  },
  {
   "cell_type": "code",
   "execution_count": 54,
   "metadata": {
    "collapsed": false,
    "slideshow": {
     "slide_type": "subslide"
    }
   },
   "outputs": [
    {
     "data": {
      "image/jpeg": "[encoded data removed]",
      "text/plain": [
       "<IPython.core.display.Image object>"
      ]
     },
     "execution_count": 54,
     "metadata": {},
     "output_type": "execute_result"
    }
   ],
   "source": [
    "from IPython.display import Image\n",
    "\n",
    "Image(dog_files[30])"
   ]
  },
  {
   "cell_type": "markdown",
   "metadata": {
    "slideshow": {
     "slide_type": "subslide"
    }
   },
   "source": [
    "### Exercise 3\n",
    "Create a function that download and unzip the data. Put that function in a file under the current directory. Import the module and run the function."
   ]
  },
  {
   "cell_type": "markdown",
   "metadata": {
    "slideshow": {
     "slide_type": "notes"
    }
   },
   "source": [
    "## Tutorials\n",
    "[Using pandas and scikit-learn](http://blog.yhat.com/posts/data-science-in-python-tutorial.html)\n",
    "\n"
   ]
  }
 ],
 "metadata": {
  "anaconda-cloud": {},
  "celltoolbar": "Slideshow",
  "kernelspec": {
   "display_name": "Python [conda env:python_course]",
   "language": "python",
   "name": "conda-env-python_course-py"
  },
  "language_info": {
   "codemirror_mode": {
    "name": "ipython",
    "version": 3
   },
   "file_extension": ".py",
   "mimetype": "text/x-python",
   "name": "python",
   "nbconvert_exporter": "python",
   "pygments_lexer": "ipython3",
   "version": "3.5.2"
  },
  "widgets": {
   "state": {},
   "version": "1.1.2"
  }
 },
 "nbformat": 4,
 "nbformat_minor": 1
}
