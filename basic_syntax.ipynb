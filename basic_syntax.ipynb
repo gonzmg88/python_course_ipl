{
 "cells": [
  {
   "cell_type": "markdown",
   "metadata": {},
   "source": [
    "## Basic Syntax\n",
    "Reference: https://www.tutorialspoint.com/python/python_variable_types.htm\n",
    "* No semicolons!\n",
    "* No brakets! \n",
    "* scopes defined by identation"
   ]
  },
  {
   "cell_type": "code",
   "execution_count": 1,
   "metadata": {
    "collapsed": false
   },
   "outputs": [
    {
     "data": {
      "text/plain": [
       "15"
      ]
     },
     "execution_count": 1,
     "metadata": {},
     "output_type": "execute_result"
    }
   ],
   "source": [
    "a = 7\n",
    "a + 8"
   ]
  },
  {
   "cell_type": "code",
   "execution_count": 2,
   "metadata": {
    "collapsed": false
   },
   "outputs": [
    {
     "name": "stdout",
     "output_type": "stream",
     "text": [
      "7\n",
      "Hello world\n"
     ]
    }
   ],
   "source": [
    "# print function\n",
    "print(a)\n",
    "print(\"Hello world\")\n"
   ]
  },
  {
   "cell_type": "code",
   "execution_count": 3,
   "metadata": {
    "collapsed": false
   },
   "outputs": [
    {
     "ename": "SyntaxError",
     "evalue": "Missing parentheses in call to 'print' (<ipython-input-3-1df90d94bdc5>, line 1)",
     "output_type": "error",
     "traceback": [
      "\u001b[0;36m  File \u001b[0;32m\"<ipython-input-3-1df90d94bdc5>\"\u001b[0;36m, line \u001b[0;32m1\u001b[0m\n\u001b[0;31m    print a # err in python3 but NOT in python2\u001b[0m\n\u001b[0m          ^\u001b[0m\n\u001b[0;31mSyntaxError\u001b[0m\u001b[0;31m:\u001b[0m Missing parentheses in call to 'print'\n"
     ]
    }
   ],
   "source": [
    "print a # err in python3 but NOT in python2"
   ]
  },
  {
   "cell_type": "code",
   "execution_count": 4,
   "metadata": {
    "collapsed": false,
    "scrolled": true
   },
   "outputs": [
    {
     "data": {
      "text/plain": [
       "['In',\n",
       " 'Out',\n",
       " '_',\n",
       " '_1',\n",
       " '__',\n",
       " '___',\n",
       " '__builtin__',\n",
       " '__builtins__',\n",
       " '__doc__',\n",
       " '__loader__',\n",
       " '__name__',\n",
       " '__package__',\n",
       " '__spec__',\n",
       " '_dh',\n",
       " '_i',\n",
       " '_i1',\n",
       " '_i2',\n",
       " '_i3',\n",
       " '_i4',\n",
       " '_ih',\n",
       " '_ii',\n",
       " '_iii',\n",
       " '_oh',\n",
       " '_sh',\n",
       " 'a',\n",
       " 'exit',\n",
       " 'get_ipython',\n",
       " 'pepe',\n",
       " 'quit']"
      ]
     },
     "execution_count": 4,
     "metadata": {},
     "output_type": "execute_result"
    }
   ],
   "source": [
    "pepe =\"pepe\"\n",
    "dir() # variables defined (in the current scope)"
   ]
  },
  {
   "cell_type": "markdown",
   "metadata": {},
   "source": [
    "## Strings"
   ]
  },
  {
   "cell_type": "code",
   "execution_count": 5,
   "metadata": {
    "collapsed": false
   },
   "outputs": [
    {
     "data": {
      "text/plain": [
       "'pepe juan'"
      ]
     },
     "execution_count": 5,
     "metadata": {},
     "output_type": "execute_result"
    }
   ],
   "source": [
    "pepe2 = pepe + \" juan\"\n",
    "pepe2"
   ]
  },
  {
   "cell_type": "code",
   "execution_count": 6,
   "metadata": {
    "collapsed": false
   },
   "outputs": [
    {
     "data": {
      "text/plain": [
       "True"
      ]
     },
     "execution_count": 6,
     "metadata": {},
     "output_type": "execute_result"
    }
   ],
   "source": [
    "# Check presence\n",
    "\"juan\" in pepe2"
   ]
  },
  {
   "cell_type": "code",
   "execution_count": 7,
   "metadata": {
    "collapsed": false
   },
   "outputs": [
    {
     "name": "stdout",
     "output_type": "stream",
     "text": [
      "pepe j\n"
     ]
    },
    {
     "data": {
      "text/plain": [
       "'u'"
      ]
     },
     "execution_count": 7,
     "metadata": {},
     "output_type": "execute_result"
    }
   ],
   "source": [
    "# slicing string\n",
    "print(pepe2[0:6])\n",
    "# last element is not included in the slice! start at 0!\n",
    "pepe2[6]"
   ]
  },
  {
   "cell_type": "code",
   "execution_count": 8,
   "metadata": {
    "collapsed": false
   },
   "outputs": [
    {
     "data": {
      "text/plain": [
       "'pepe juanpepe juan'"
      ]
     },
     "execution_count": 8,
     "metadata": {},
     "output_type": "execute_result"
    }
   ],
   "source": [
    "pepe2*2 # multiplication is defined!"
   ]
  },
  {
   "cell_type": "code",
   "execution_count": 9,
   "metadata": {
    "collapsed": false
   },
   "outputs": [
    {
     "data": {
      "text/plain": [
       "'PEPE JUAN'"
      ]
     },
     "execution_count": 9,
     "metadata": {},
     "output_type": "execute_result"
    }
   ],
   "source": [
    "# use tab to autocomplete!!\n",
    "pepe2.upper()\n",
    "# shift+tab get help of the function in notebook\n"
   ]
  },
  {
   "cell_type": "code",
   "execution_count": 10,
   "metadata": {
    "collapsed": false
   },
   "outputs": [
    {
     "name": "stdout",
     "output_type": "stream",
     "text": [
      "Help on method_descriptor:\n",
      "\n",
      "upper(...)\n",
      "    S.upper() -> str\n",
      "    \n",
      "    Return a copy of S converted to uppercase.\n",
      "\n"
     ]
    }
   ],
   "source": [
    "help(str.upper)"
   ]
  },
  {
   "cell_type": "code",
   "execution_count": 11,
   "metadata": {
    "collapsed": false
   },
   "outputs": [
    {
     "data": {
      "text/plain": [
       "str"
      ]
     },
     "execution_count": 11,
     "metadata": {},
     "output_type": "execute_result"
    }
   ],
   "source": [
    "type(pepe2)"
   ]
  },
  {
   "cell_type": "code",
   "execution_count": 12,
   "metadata": {
    "collapsed": false
   },
   "outputs": [
    {
     "data": {
      "text/plain": [
       "'S.upper() -> str\\n\\nReturn a copy of S converted to uppercase.'"
      ]
     },
     "execution_count": 12,
     "metadata": {},
     "output_type": "execute_result"
    }
   ],
   "source": [
    "type(pepe2).upper.__doc__ # !!!"
   ]
  },
  {
   "cell_type": "markdown",
   "metadata": {},
   "source": [
    "## Lists\n"
   ]
  },
  {
   "cell_type": "code",
   "execution_count": 13,
   "metadata": {
    "collapsed": false
   },
   "outputs": [
    {
     "data": {
      "text/plain": [
       "[2, 3, 4]"
      ]
     },
     "execution_count": 13,
     "metadata": {},
     "output_type": "execute_result"
    }
   ],
   "source": [
    "listilla = [2,3,4]\n",
    "listilla"
   ]
  },
  {
   "cell_type": "code",
   "execution_count": 14,
   "metadata": {
    "collapsed": false
   },
   "outputs": [
    {
     "data": {
      "text/plain": [
       "[2, 3]"
      ]
     },
     "execution_count": 14,
     "metadata": {},
     "output_type": "execute_result"
    }
   ],
   "source": [
    "listilla[0:2]"
   ]
  },
  {
   "cell_type": "code",
   "execution_count": 15,
   "metadata": {
    "collapsed": false
   },
   "outputs": [
    {
     "data": {
      "text/plain": [
       "[2, 3, 4, 24]"
      ]
     },
     "execution_count": 15,
     "metadata": {},
     "output_type": "execute_result"
    }
   ],
   "source": [
    "listilla.append(24)\n",
    "listilla"
   ]
  },
  {
   "cell_type": "code",
   "execution_count": 16,
   "metadata": {
    "collapsed": false
   },
   "outputs": [
    {
     "data": {
      "text/plain": [
       "4"
      ]
     },
     "execution_count": 16,
     "metadata": {},
     "output_type": "execute_result"
    }
   ],
   "source": [
    "len(listilla)"
   ]
  },
  {
   "cell_type": "code",
   "execution_count": 17,
   "metadata": {
    "collapsed": false
   },
   "outputs": [
    {
     "name": "stdout",
     "output_type": "stream",
     "text": [
      "2\n",
      "3\n",
      "4\n",
      "24\n"
     ]
    }
   ],
   "source": [
    "for elementillo in listilla:\n",
    "    print(elementillo)"
   ]
  },
  {
   "cell_type": "code",
   "execution_count": 18,
   "metadata": {
    "collapsed": false
   },
   "outputs": [
    {
     "name": "stdout",
     "output_type": "stream",
     "text": [
      "Element: 0 is 2\n",
      "Element: 1 is 3\n",
      "Element: 2 is 4\n",
      "Element: 3 is 24\n"
     ]
    }
   ],
   "source": [
    "# enumerate and format\n",
    "for i,elementillo in enumerate(listilla):\n",
    "    print(\"Element: {} is {}\".format(i,elementillo))"
   ]
  },
  {
   "cell_type": "code",
   "execution_count": 19,
   "metadata": {
    "collapsed": false
   },
   "outputs": [
    {
     "data": {
      "text/plain": [
       "[2, 3, 4, 24, 'texto']"
      ]
     },
     "execution_count": 19,
     "metadata": {},
     "output_type": "execute_result"
    }
   ],
   "source": [
    "# list can be non-homogeneus\n",
    "listilla.append(\"texto\")\n",
    "listilla"
   ]
  },
  {
   "cell_type": "code",
   "execution_count": 20,
   "metadata": {
    "collapsed": false
   },
   "outputs": [
    {
     "data": {
      "text/plain": [
       "[2, 3, 4, 24, 'texto', 'numerillo']"
      ]
     },
     "execution_count": 20,
     "metadata": {},
     "output_type": "execute_result"
    }
   ],
   "source": [
    "# clone lists\n",
    "lista2 = listilla\n",
    "listilla.append(\"numerillo\")\n",
    "lista2 #  :(\n"
   ]
  },
  {
   "cell_type": "code",
   "execution_count": 21,
   "metadata": {
    "collapsed": false
   },
   "outputs": [
    {
     "data": {
      "text/plain": [
       "[2, 3, 4, 24, 'texto']"
      ]
     },
     "execution_count": 21,
     "metadata": {},
     "output_type": "execute_result"
    }
   ],
   "source": [
    "# Delete element\n",
    "if \"numerillo\" in listilla:\n",
    "    listilla.remove(\"numerillo\")\n",
    "\n",
    "# clone list second try\n",
    "lista2 = list(listilla)\n",
    "listilla.append(\"numerillo2\")\n",
    "lista2\n"
   ]
  },
  {
   "cell_type": "code",
   "execution_count": 22,
   "metadata": {
    "collapsed": false
   },
   "outputs": [
    {
     "data": {
      "text/plain": [
       "[2, 3, 4, 24, 'texto', 'numerillo2', 2, 3, 4, 24, 'texto']"
      ]
     },
     "execution_count": 22,
     "metadata": {},
     "output_type": "execute_result"
    }
   ],
   "source": [
    "# use tab to autocomplete!!\n",
    "listilla.extend(lista2)\n",
    "listilla"
   ]
  },
  {
   "cell_type": "markdown",
   "metadata": {},
   "source": [
    "### List comprehensions"
   ]
  },
  {
   "cell_type": "code",
   "execution_count": 23,
   "metadata": {
    "collapsed": false
   },
   "outputs": [
    {
     "data": {
      "text/plain": [
       "[5, 6, 7]"
      ]
     },
     "execution_count": 23,
     "metadata": {},
     "output_type": "execute_result"
    }
   ],
   "source": [
    "listilla = [2,3,4]\n",
    "\n",
    "suma = [i+3 for i in listilla]\n",
    "suma"
   ]
  },
  {
   "cell_type": "code",
   "execution_count": 24,
   "metadata": {
    "collapsed": false
   },
   "outputs": [
    {
     "data": {
      "text/plain": [
       "[4, 5]"
      ]
     },
     "execution_count": 24,
     "metadata": {},
     "output_type": "execute_result"
    }
   ],
   "source": [
    "[i+1 for i in listilla if i > 2]\n"
   ]
  },
  {
   "cell_type": "code",
   "execution_count": 25,
   "metadata": {
    "collapsed": false
   },
   "outputs": [
    {
     "data": {
      "text/plain": [
       "[3, 3, 3]"
      ]
     },
     "execution_count": 25,
     "metadata": {},
     "output_type": "execute_result"
    }
   ],
   "source": [
    "# iterating over two list at the same time\n",
    "[j-i for i,j in zip(listilla,suma)]\n"
   ]
  },
  {
   "cell_type": "code",
   "execution_count": 26,
   "metadata": {
    "collapsed": false
   },
   "outputs": [
    {
     "data": {
      "text/plain": [
       "[[0, 0], [1, 0], [1, 1], [2, 0], [2, 1], [2, 2]]"
      ]
     },
     "execution_count": 26,
     "metadata": {},
     "output_type": "execute_result"
    }
   ],
   "source": [
    "[[i,j] for i in range(0,3) for j in range(0,3) if j <= i]"
   ]
  },
  {
   "cell_type": "markdown",
   "metadata": {},
   "source": [
    "### Try/Catch "
   ]
  },
  {
   "cell_type": "code",
   "execution_count": 27,
   "metadata": {
    "collapsed": false
   },
   "outputs": [
    {
     "ename": "ValueError",
     "evalue": "list.remove(x): x not in list",
     "output_type": "error",
     "traceback": [
      "\u001b[0;31m---------------------------------------------------------------------------\u001b[0m",
      "\u001b[0;31mValueError\u001b[0m                                Traceback (most recent call last)",
      "\u001b[0;32m<ipython-input-27-438fb41d99ff>\u001b[0m in \u001b[0;36m<module>\u001b[0;34m()\u001b[0m\n\u001b[0;32m----> 1\u001b[0;31m \u001b[0mlistilla\u001b[0m\u001b[0;34m.\u001b[0m\u001b[0mremove\u001b[0m\u001b[0;34m(\u001b[0m\u001b[0;34m\"numerillo\"\u001b[0m\u001b[0;34m)\u001b[0m \u001b[0;31m# ups\u001b[0m\u001b[0;34m\u001b[0m\u001b[0m\n\u001b[0m",
      "\u001b[0;31mValueError\u001b[0m: list.remove(x): x not in list"
     ]
    }
   ],
   "source": [
    "listilla.remove(\"numerillo\") # ups"
   ]
  },
  {
   "cell_type": "code",
   "execution_count": 28,
   "metadata": {
    "collapsed": false
   },
   "outputs": [
    {
     "name": "stdout",
     "output_type": "stream",
     "text": [
      "ups: list.remove(x): x not in list\n"
     ]
    }
   ],
   "source": [
    "try:\n",
    "    listilla.remove(\"numerillo\")\n",
    "except ValueError as ve:\n",
    "    print(\"ups: \"+str(ve))\n"
   ]
  },
  {
   "cell_type": "code",
   "execution_count": 29,
   "metadata": {
    "collapsed": false
   },
   "outputs": [
    {
     "name": "stdout",
     "output_type": "stream",
     "text": [
      "ups: Traceback (most recent call last):\n",
      "  File \"<ipython-input-29-19841dee7231>\", line 4, in <module>\n",
      "    listilla.remove(\"numerillo\")\n",
      "ValueError: list.remove(x): x not in list\n",
      "\n"
     ]
    }
   ],
   "source": [
    "# Show the traceback.\n",
    "import traceback\n",
    "try:\n",
    "    listilla.remove(\"numerillo\")\n",
    "except ValueError as ve:\n",
    "    print(\"ups: \"+traceback.format_exc())"
   ]
  },
  {
   "cell_type": "markdown",
   "metadata": {},
   "source": [
    "## Functions"
   ]
  },
  {
   "cell_type": "code",
   "execution_count": 30,
   "metadata": {
    "collapsed": false
   },
   "outputs": [],
   "source": [
    "def funcioncilla(b):\n",
    "    b = b +3\n",
    "    return b-2\n",
    "\n",
    "num = funcioncilla(7)\n"
   ]
  },
  {
   "cell_type": "code",
   "execution_count": 31,
   "metadata": {
    "collapsed": false
   },
   "outputs": [
    {
     "name": "stdout",
     "output_type": "stream",
     "text": [
      "40 patata fritas\n"
     ]
    }
   ],
   "source": [
    "# multiple output func\n",
    "def funcioncilla_multiple(b,c=\"patata\",d=27):\n",
    "    b = b +3 + d\n",
    "    return b-2,c+\" fritas\"\n",
    "\n",
    "primero, segundo = funcioncilla_multiple(12)\n",
    "\n",
    "\n",
    "print(primero,segundo)"
   ]
  },
  {
   "cell_type": "code",
   "execution_count": 32,
   "metadata": {
    "collapsed": false
   },
   "outputs": [
    {
     "data": {
      "text/plain": [
       "(40, 'patata fritas')"
      ]
     },
     "execution_count": 32,
     "metadata": {},
     "output_type": "execute_result"
    }
   ],
   "source": [
    "cosas = funcioncilla_multiple(12)\n",
    "cosas # cosa is a tuple\n"
   ]
  },
  {
   "cell_type": "code",
   "execution_count": 33,
   "metadata": {
    "collapsed": false
   },
   "outputs": [
    {
     "name": "stdout",
     "output_type": "stream",
     "text": [
      "la salida 1 es: \"40\" y la 2 es \"patata fritas\"\n"
     ]
    }
   ],
   "source": [
    "print(\"la salida 1 es: \\\"{}\\\" y la 2 es \\\"{}\\\"\".format(cosas[0],cosas[1]))"
   ]
  },
  {
   "cell_type": "code",
   "execution_count": 34,
   "metadata": {
    "collapsed": false
   },
   "outputs": [
    {
     "data": {
      "text/plain": [
       "(61, 'berenjenas fritas')"
      ]
     },
     "execution_count": 34,
     "metadata": {},
     "output_type": "execute_result"
    }
   ],
   "source": [
    "funcioncilla_multiple(33,\"berenjenas\") # equivalente a funcioncilla_multiple(33,c=\"berenjenas\")"
   ]
  },
  {
   "cell_type": "code",
   "execution_count": 35,
   "metadata": {
    "collapsed": false
   },
   "outputs": [
    {
     "data": {
      "text/plain": [
       "(35, 'patata fritas')"
      ]
     },
     "execution_count": 35,
     "metadata": {},
     "output_type": "execute_result"
    }
   ],
   "source": [
    "funcioncilla_multiple(33,d=1)"
   ]
  },
  {
   "cell_type": "markdown",
   "metadata": {},
   "source": [
    "## Classes\n",
    "*Everything* in python is an object. Easy to use."
   ]
  },
  {
   "cell_type": "code",
   "execution_count": 57,
   "metadata": {
    "collapsed": false
   },
   "outputs": [
    {
     "data": {
      "text/plain": [
       "'dog'"
      ]
     },
     "execution_count": 57,
     "metadata": {},
     "output_type": "execute_result"
    }
   ],
   "source": [
    "# Class names use to be capitalized and CamelCase.\n",
    "class AnimalImage():\n",
    "    def __init__(self,path_to_image):\n",
    "        self.path_to_image = path_to_image\n",
    "    def animal(self): # method and functions names tend to be not capitalized\n",
    "        if 'dog' in self.path_to_image:\n",
    "            return 'dog'\n",
    "        if 'cat' in self.path_to_image:\n",
    "            return 'cat'\n",
    "\n",
    "beast = AnimalImage(\"imagenes/dog.12258.jpg\")\n",
    "beast.animal()"
   ]
  },
  {
   "cell_type": "code",
   "execution_count": 58,
   "metadata": {
    "collapsed": false
   },
   "outputs": [
    {
     "name": "stdout",
     "output_type": "stream",
     "text": [
      "<__main__.AnimalImage object at 0x7f17d36fe470>\n"
     ]
    }
   ],
   "source": [
    "print(beast)"
   ]
  },
  {
   "cell_type": "code",
   "execution_count": 59,
   "metadata": {
    "collapsed": false
   },
   "outputs": [
    {
     "name": "stdout",
     "output_type": "stream",
     "text": [
      "dog\n"
     ]
    }
   ],
   "source": [
    "# Overloading operators\n",
    "class AnimalImage():\n",
    "    def __init__(self,path_to_image):\n",
    "        self.path_to_image = path_to_image\n",
    "    def animal(self): # method and functions names tend to be not capitalized\n",
    "        if 'dog' in self.path_to_image:\n",
    "            return 'dog'\n",
    "        if 'cat' in self.path_to_image:\n",
    "            return 'cat'\n",
    "    def __str__(self): # overloading of operator (http://www.programiz.com/python-programming/operator-overloading)\n",
    "        return self.animal()\n",
    "    \n",
    "    #def __add__(self,other):\n",
    "    #    ....\n",
    "\n",
    "beast = AnimalImage(\"imagenes/dog.12258.jpg\")\n",
    "print(beast)"
   ]
  },
  {
   "cell_type": "code",
   "execution_count": 60,
   "metadata": {
    "collapsed": false
   },
   "outputs": [
    {
     "name": "stdout",
     "output_type": "stream",
     "text": [
      "IMAGENES/DOG.12258.JPG\n"
     ]
    },
    {
     "data": {
      "text/plain": [
       "'dog'"
      ]
     },
     "execution_count": 60,
     "metadata": {},
     "output_type": "execute_result"
    }
   ],
   "source": [
    "# Inheritance\n",
    "class AnimalImage(str):\n",
    "     def __init__(self,path_to_image):\n",
    "        self.path_to_image = path_to_image\n",
    "        super(AnimalImage, self).__init__()\n",
    "    \n",
    "     def animal(self): \n",
    "        if 'dog' in os.path.basename(self.path_to_image):\n",
    "            return 'dog'\n",
    "        if 'cat' in os.path.basename(self.path_to_image):\n",
    "            return 'cat'\n",
    "\n",
    "animalillo = AnimalImage(\"imagenes/dog.12258.jpg\")\n",
    "\n",
    "print(animalillo.upper())\n",
    "animalillo.animal()\n"
   ]
  },
  {
   "cell_type": "markdown",
   "metadata": {},
   "source": [
    "### Basic I/O\n",
    "\n",
    "We will use our **first** module `os` (https://docs.python.org/3.5/library/os.html) from the python standard library."
   ]
  },
  {
   "cell_type": "code",
   "execution_count": 2,
   "metadata": {
    "collapsed": false
   },
   "outputs": [
    {
     "name": "stdout",
     "output_type": "stream",
     "text": [
      "/home/gonmagar/python_course_ipl\n",
      "['26_Agosto_1.pdf', 'titulo_ingles_IELTS.pdf', '26_Agosto_2.pdf']\n"
     ]
    }
   ],
   "source": [
    "import os\n",
    "\n",
    "os.path.exists(\"server.py\")\n",
    "\n",
    "home_dir = os.getenv(\"HOME\") ## setenv\n",
    "\n",
    "print(os.getcwd())\n",
    "\n",
    "dir_documents_contents  = os.listdir(os.path.join(os.getenv(\"HOME\"),\"Documents\")) # path.join listdir\n",
    "print(dir_documents_contents[1:4])"
   ]
  },
  {
   "cell_type": "markdown",
   "metadata": {},
   "source": [
    "## Imports"
   ]
  },
  {
   "cell_type": "code",
   "execution_count": 5,
   "metadata": {
    "collapsed": false
   },
   "outputs": [
    {
     "data": {
      "text/plain": [
       "'/home/gonmagar'"
      ]
     },
     "execution_count": 5,
     "metadata": {},
     "output_type": "execute_result"
    }
   ],
   "source": [
    "from os import getenv\n",
    "getenv(\"HOME\")\n",
    "\n",
    "# To import all functions:\n",
    "# from os import * \n",
    "# But it is highly not recomended!! :S\n"
   ]
  },
  {
   "cell_type": "code",
   "execution_count": 6,
   "metadata": {
    "collapsed": false
   },
   "outputs": [
    {
     "data": {
      "text/plain": [
       "2.3666666666666667"
      ]
     },
     "execution_count": 6,
     "metadata": {},
     "output_type": "execute_result"
    }
   ],
   "source": [
    "import numpy as np #named imports\n",
    "\n",
    "np.mean([2,3,2.1]))\n"
   ]
  },
  {
   "cell_type": "code",
   "execution_count": 7,
   "metadata": {
    "collapsed": false
   },
   "outputs": [
    {
     "ename": "NameError",
     "evalue": "name 'numpy' is not defined",
     "output_type": "error",
     "traceback": [
      "\u001b[0;31m---------------------------------------------------------------------------\u001b[0m",
      "\u001b[0;31mNameError\u001b[0m                                 Traceback (most recent call last)",
      "\u001b[0;32m<ipython-input-7-49aac6994fe4>\u001b[0m in \u001b[0;36m<module>\u001b[0;34m()\u001b[0m\n\u001b[0;32m----> 1\u001b[0;31m \u001b[0mnumpy\u001b[0m\u001b[0;34m.\u001b[0m\u001b[0mmean\u001b[0m\u001b[0;34m(\u001b[0m\u001b[0;34m[\u001b[0m\u001b[0;36m2\u001b[0m\u001b[0;34m,\u001b[0m\u001b[0;36m3\u001b[0m\u001b[0;34m,\u001b[0m\u001b[0;36m2.1\u001b[0m\u001b[0;34m]\u001b[0m\u001b[0;34m)\u001b[0m\u001b[0;34m\u001b[0m\u001b[0m\n\u001b[0m",
      "\u001b[0;31mNameError\u001b[0m: name 'numpy' is not defined"
     ]
    }
   ],
   "source": [
    "numpy.mean([2,3,2.1]) # ups"
   ]
  },
  {
   "cell_type": "code",
   "execution_count": 8,
   "metadata": {
    "collapsed": false
   },
   "outputs": [
    {
     "data": {
      "text/plain": [
       "masked_array(data = [-- -- 5 1],\n",
       "             mask = [ True  True False False],\n",
       "       fill_value = 999999)"
      ]
     },
     "execution_count": 8,
     "metadata": {},
     "output_type": "execute_result"
    }
   ],
   "source": [
    "import numpy.ma as ma\n",
    "ma.masked_array([2,3,5,1],[True,True,False,False])"
   ]
  },
  {
   "cell_type": "code",
   "execution_count": 9,
   "metadata": {
    "collapsed": false
   },
   "outputs": [
    {
     "data": {
      "text/plain": [
       "'/home/gonmagar/miniconda3/envs/python_course/lib/python3.5/site-packages/numpy/__init__.py'"
      ]
     },
     "execution_count": 9,
     "metadata": {},
     "output_type": "execute_result"
    }
   ],
   "source": [
    "# module location\n",
    "np.__file__"
   ]
  },
  {
   "cell_type": "markdown",
   "metadata": {},
   "source": [
    "Where does python search the modules? (https://docs.python.org/3.5/tutorial/modules.html#the-module-search-path)"
   ]
  },
  {
   "cell_type": "code",
   "execution_count": 10,
   "metadata": {
    "collapsed": false
   },
   "outputs": [
    {
     "data": {
      "text/plain": [
       "['',\n",
       " '/home/gonmagar/miniconda3/envs/python_course/lib/python35.zip',\n",
       " '/home/gonmagar/miniconda3/envs/python_course/lib/python3.5',\n",
       " '/home/gonmagar/miniconda3/envs/python_course/lib/python3.5/plat-linux',\n",
       " '/home/gonmagar/miniconda3/envs/python_course/lib/python3.5/lib-dynload',\n",
       " '/home/gonmagar/miniconda3/envs/python_course/lib/python3.5/site-packages',\n",
       " '/home/gonmagar/miniconda3/envs/python_course/lib/python3.5/site-packages/contextlib2-0.5.3-py3.5.egg',\n",
       " '/home/gonmagar/miniconda3/envs/python_course/lib/python3.5/site-packages/cycler-0.10.0-py3.5.egg',\n",
       " '/home/gonmagar/miniconda3/envs/python_course/lib/python3.5/site-packages/setuptools-27.2.0-py3.5.egg',\n",
       " '/home/gonmagar/miniconda3/envs/python_course/lib/python3.5/site-packages/IPython/extensions',\n",
       " '/home/gonmagar/.ipython']"
      ]
     },
     "execution_count": 10,
     "metadata": {},
     "output_type": "execute_result"
    }
   ],
   "source": [
    "import sys\n",
    "sys.path"
   ]
  },
  {
   "cell_type": "markdown",
   "metadata": {},
   "source": [
    "The **C**urrent **W**orking **D**irectory (`os.getcwd()`) is always included in the path. so we can import modules which are on it.\n",
    "\n",
    "But... what's a *module*? A module is just a `.py` file. \n",
    "\n",
    "If we put in a `.py` file a bunch of functions, and classes we can access to them easily:"
   ]
  },
  {
   "cell_type": "code",
   "execution_count": 4,
   "metadata": {
    "collapsed": false
   },
   "outputs": [
    {
     "name": "stdout",
     "output_type": "stream",
     "text": [
      "The module is in the cwd? True\n"
     ]
    },
    {
     "data": {
      "text/plain": [
       "['variable', 'capitalize means by convection constant']"
      ]
     },
     "execution_count": 4,
     "metadata": {},
     "output_type": "execute_result"
    }
   ],
   "source": [
    "print(\"The module is in the cwd? {}\".format(os.path.exists(\"modulillo.py\")))\n",
    "import modulillo\n",
    "# modulillo.<tab>\n",
    "modulillo.funcioncilla_multiple(12)\n",
    "\n",
    "# modulillo.PATATAS is a variable"
   ]
  },
  {
   "cell_type": "code",
   "execution_count": 21,
   "metadata": {
    "collapsed": false
   },
   "outputs": [
    {
     "name": "stdout",
     "output_type": "stream",
     "text": [
      "/home/gonmagar/python_course_ipl/modulillo.py\n",
      "The module is in the cwd? True\n"
     ]
    }
   ],
   "source": [
    "# More I/O:\n",
    "\n",
    "abs_path = os.path.abspath(\"modulillo.py\")\n",
    "print(abs_path)\n",
    "print(\"The module is in the cwd? {}\".format(os.path.exists(os.path.join(os.getcwd(),\"modulillo.py\"))))\n"
   ]
  },
  {
   "cell_type": "code",
   "execution_count": 5,
   "metadata": {
    "collapsed": false,
    "scrolled": true
   },
   "outputs": [
    {
     "data": {
      "text/plain": [
       "['AnimalImage',\n",
       " 'PATATAS',\n",
       " '__builtins__',\n",
       " '__cached__',\n",
       " '__doc__',\n",
       " '__file__',\n",
       " '__loader__',\n",
       " '__name__',\n",
       " '__package__',\n",
       " '__spec__',\n",
       " 'funcioncilla_multiple']"
      ]
     },
     "execution_count": 5,
     "metadata": {},
     "output_type": "execute_result"
    }
   ],
   "source": [
    "# Which names a module defines\n",
    "dir(modulillo)"
   ]
  },
  {
   "cell_type": "markdown",
   "metadata": {},
   "source": [
    "## Write/Read files"
   ]
  },
  {
   "cell_type": "code",
   "execution_count": 7,
   "metadata": {
    "collapsed": false
   },
   "outputs": [
    {
     "name": "stdout",
     "output_type": "stream",
     "text": [
      "['titulo_matematicas.pdf\\n', '26_Agosto_1.pdf\\n', 'titulo_ingles_IELTS.pdf\\n', '26_Agosto_2.pdf\\n', 'titulo_informatica.pdf\\n', 'ProductCustomization.cfg\\n', 'MATLAB\\n', '1deMayo.pdf\\n', 'recibo_bankia.pdf\\n', 'BBVA TPV Virtual.pdf\\n', 'Billete_1_23_25_sept.pdf\\n', 'titulo_master.pdf\\n', 'SNAP\\n', 'suplemento_matematicas.pdf\\n', 'Billete_2_23_25_sept.pdf\\n', 'solicitud_certificacion_academica_personal.pdf\\n', 'pago_travesia_xabia.pdf\\n', 'supemento_informatica.pdf\\n']\n"
     ]
    }
   ],
   "source": [
    "salida = \"salida.txt\"\n",
    "\n",
    "# Write lines\n",
    "dir_documents_contents  = os.listdir(os.path.join(os.getenv(\"HOME\"),\"Documents\")) # path.join listdir\n",
    "\n",
    "with open(salida,\"w\") as f:\n",
    "    f.writelines([doccont+\"\\n\" for doccont in dir_documents_contents])\n",
    "\n",
    "# Read all lines\n",
    "with open(salida,\"r\") as r:\n",
    "    lineas = r.readlines()\n",
    "\n",
    "print(lineas)"
   ]
  },
  {
   "cell_type": "markdown",
   "metadata": {},
   "source": [
    "## Dictionary\n",
    "Hash structure"
   ]
  },
  {
   "cell_type": "code",
   "execution_count": 8,
   "metadata": {
    "collapsed": true
   },
   "outputs": [],
   "source": [
    "cosas = {\"metodo\": \"cnn\", \"numero_imagenes\": 200, \"regresores\": [\"TOA_REFL_RED\",\"TOA_REFL_BLUE\"]}"
   ]
  },
  {
   "cell_type": "code",
   "execution_count": 9,
   "metadata": {
    "collapsed": false
   },
   "outputs": [
    {
     "data": {
      "text/plain": [
       "'cnn'"
      ]
     },
     "execution_count": 9,
     "metadata": {},
     "output_type": "execute_result"
    }
   ],
   "source": [
    "cosas[\"metodo\"]"
   ]
  },
  {
   "cell_type": "code",
   "execution_count": 10,
   "metadata": {
    "collapsed": false
   },
   "outputs": [
    {
     "name": "stdout",
     "output_type": "stream",
     "text": [
      "numero_imagenes: 200\n",
      "metodo: cnn\n",
      "regresores: ['TOA_REFL_RED', 'TOA_REFL_BLUE']\n"
     ]
    }
   ],
   "source": [
    "for k,v in cosas.items():\n",
    "    print(\"{}: {}\".format(k,v))\n"
   ]
  },
  {
   "cell_type": "code",
   "execution_count": 12,
   "metadata": {
    "collapsed": false
   },
   "outputs": [
    {
     "name": "stdout",
     "output_type": "stream",
     "text": [
      "['numero_imagenes', 'metodo', 'regresores']\n"
     ]
    },
    {
     "data": {
      "text/plain": [
       "[200, 'cnn', ['TOA_REFL_RED', 'TOA_REFL_BLUE']]"
      ]
     },
     "execution_count": 12,
     "metadata": {},
     "output_type": "execute_result"
    }
   ],
   "source": [
    "print(list(cosas.keys()))\n",
    "list(cosas.values())"
   ]
  },
  {
   "cell_type": "code",
   "execution_count": 13,
   "metadata": {
    "collapsed": false
   },
   "outputs": [
    {
     "data": {
      "text/plain": [
       "{'lambda': 0.4,\n",
       " 'metodo': 'cnn',\n",
       " 'numero_imagenes': 200,\n",
       " 'regresores': ['TOA_REFL_RED', 'TOA_REFL_BLUE']}"
      ]
     },
     "execution_count": 13,
     "metadata": {},
     "output_type": "execute_result"
    }
   ],
   "source": [
    "cosas[\"lambda\"] = .4\n",
    "cosas"
   ]
  },
  {
   "cell_type": "code",
   "execution_count": 15,
   "metadata": {
    "collapsed": false
   },
   "outputs": [
    {
     "data": {
      "text/plain": [
       "{'lambda': 0.4,\n",
       " 'metodo': 'cnn',\n",
       " 'numero_imagenes': 200,\n",
       " 'regresores': ['TOA_REFL_RED', 'TOA_REFL_BLUE']}"
      ]
     },
     "execution_count": 15,
     "metadata": {},
     "output_type": "execute_result"
    }
   ],
   "source": [
    "import json\n",
    "# Serialize dicts and lists with json:\n",
    "\n",
    "with open(\"salida.json\",\"w\") as f:\n",
    "    json.dump(cosas,f)\n",
    "\n",
    "with open(\"salida.json\",\"r\") as r:\n",
    "    cosas2 = json.load(r)\n",
    "    \n",
    "cosas2"
   ]
  },
  {
   "cell_type": "code",
   "execution_count": 17,
   "metadata": {
    "collapsed": false
   },
   "outputs": [
    {
     "name": "stdout",
     "output_type": "stream",
     "text": [
      "{\"numero_imagenes\": 200, \"lambda\": 0.4, \"metodo\": \"cnn\", \"regresores\": [\"TOA_REFL_RED\", \"TOA_REFL_BLUE\"]}\n"
     ]
    }
   ],
   "source": [
    "with open(\"salida.json\",\"r\") as r:\n",
    "    print(\"\".join(r.readlines()))"
   ]
  },
  {
   "cell_type": "markdown",
   "metadata": {},
   "source": [
    "With `!` we can execute terminal commands from the notebook."
   ]
  },
  {
   "cell_type": "code",
   "execution_count": 18,
   "metadata": {
    "collapsed": false
   },
   "outputs": [
    {
     "name": "stdout",
     "output_type": "stream",
     "text": [
      "{\"numero_imagenes\": 200, \"lambda\": 0.4, \"metodo\": \"cnn\", \"regresores\": [\"TOA_REFL_RED\", \"TOA_REFL_BLUE\"]}"
     ]
    }
   ],
   "source": [
    "!cat salida.json"
   ]
  },
  {
   "cell_type": "markdown",
   "metadata": {},
   "source": [
    "## Reading data from web\n",
    "Download the html from a web. We use the `urllib` module from the python standard library.\n",
    "\n",
    "See [scrappy](https://scrapy.org/) for more \"professional\" web scrapping or [requests](https://requests.readthedocs.io/en/master/)."
   ]
  },
  {
   "cell_type": "code",
   "execution_count": 20,
   "metadata": {
    "collapsed": false
   },
   "outputs": [
    {
     "data": {
      "text/plain": [
       "b'<!DOCTYPE html>\\n<html lang=\"en\">\\n  <head>\\n    <meta charset=\"utf-8\">\\n    <meta http-equiv=\"X-UA-Compatible\" content=\"IE=edge\">\\n    <meta name=\"viewport\" content=\"width=device-width, initial-scale=1\">\\n    <!-- The above 3 meta tags *must* come first in the head; any other head content must come *after* these tags -->\\n    <meta name=\"description\" content=\"\">\\n    <meta name=\"author\" content=\"\">\\n    <link rel=\"icon\" href=\"../../favicon.ico\">\\n\\n    <title>ISP - Image and Signal Processing group</title>\\n\\n    <!-- Bootstrap core CSS -->\\n    <link href=\"css/bootstrap.min.css\" rel=\"stylesheet\">\\n    <!-- Bootstrap theme -->\\n    <link href=\"css/bootstrap-theme.min.css\" rel=\"stylesheet\">\\n\\n    <!-- Custom'"
      ]
     },
     "execution_count": 20,
     "metadata": {},
     "output_type": "execute_result"
    }
   ],
   "source": [
    "import urllib.request\n",
    "req = urllib.request.urlopen('http://isp.uv.es/')\n",
    "data = req.read()\n",
    "data[0:700]\n",
    "\n",
    "# Display data as HTML!!!\n",
    "# from IPython.display import HTML,display\n",
    "# display(HTML(\"<iframe>\"+str(data)+\"</iframe>\"))"
   ]
  },
  {
   "cell_type": "markdown",
   "metadata": {},
   "source": [
    "## Preparing for the exercises\n",
    "\n",
    "Code for downloading the data of [dogs vs cats kaggle competition](https://www.kaggle.com/c/dogs-vs-cats-redux-kernels-edition)."
   ]
  },
  {
   "cell_type": "code",
   "execution_count": 21,
   "metadata": {
    "collapsed": false
   },
   "outputs": [
    {
     "name": "stdout",
     "output_type": "stream",
     "text": [
      "data file train.zip has already been downloaded\n"
     ]
    }
   ],
   "source": [
    "# urllib.request.urlretrieve('http://example.com/big.zip', 'file/on/disk.zip')\n",
    "train_file = \"train.zip\"\n",
    "# Download data\n",
    "\n",
    "if not os.path.exists(train_file):\n",
    "    urllib.request.urlretrieve(\"https://www.dropbox.com/s/8lbkqktfofzjraj/train.zip?raw=1\", train_file)\n",
    "    print(\"Done\")\n",
    "else:\n",
    "    print(\"data file {} has already been downloaded\".format(train_file))"
   ]
  },
  {
   "cell_type": "code",
   "execution_count": 22,
   "metadata": {
    "collapsed": false
   },
   "outputs": [
    {
     "name": "stdout",
     "output_type": "stream",
     "text": [
      "Extracted\n"
     ]
    }
   ],
   "source": [
    "# unzip files\n",
    "import zipfile\n",
    "\n",
    "# If folder train does not exists extract all elements\n",
    "train_folder = \"train\"\n",
    "if not os.path.exists(train_folder):\n",
    "    with zipfile.ZipFile(train_file, 'r') as myzip:\n",
    "        myzip.extractall()\n",
    "    print(\"Extracted\")\n",
    "else:\n",
    "    print(\"Data has already been extracted\")\n",
    "    \n",
    "all_files = os.listdir(\"train\")"
   ]
  },
  {
   "cell_type": "markdown",
   "metadata": {},
   "source": [
    "### Exercise 1\n",
    "Retrieve a list with only dog files."
   ]
  },
  {
   "cell_type": "markdown",
   "metadata": {},
   "source": [
    " ### Exercise 2\n",
    " Display an image using `Image` from `Ipython.display`"
   ]
  },
  {
   "cell_type": "markdown",
   "metadata": {},
   "source": [
    "### Exercise 3\n",
    "Create a function that download and unzip the data. Put that function in a file under the current directory. Import the module and run the function."
   ]
  }
 ],
 "metadata": {
  "anaconda-cloud": {},
  "kernelspec": {
   "display_name": "Python [conda env:python_course]",
   "language": "python",
   "name": "conda-env-python_course-py"
  },
  "widgets": {
   "state": {},
   "version": "1.1.2"
  }
 },
 "nbformat": 4,
 "nbformat_minor": 1
}
