{
 "cells": [
  {
   "cell_type": "markdown",
   "metadata": {},
   "source": [
    "## Basic Syntax\n",
    "Reference: https://www.tutorialspoint.com/python/python_variable_types.htm\n",
    "* No semicolons!\n",
    "* No brakets! \n",
    "* scopes defined by identation"
   ]
  },
  {
   "cell_type": "markdown",
   "metadata": {},
   "source": [
    "### Basic types/classes/objects\n",
    "* `int`, `float`\n",
    "* `list`\n",
    "* `string`\n",
    "* `dict`\n",
    "* `tuple`\n",
    "* `numpy.array` $\\longrightarrow$ matrices, vectors, etc..."
   ]
  },
  {
   "cell_type": "code",
   "execution_count": 2,
   "metadata": {
    "collapsed": false
   },
   "outputs": [
    {
     "data": {
      "text/plain": [
       "15"
      ]
     },
     "execution_count": 2,
     "metadata": {},
     "output_type": "execute_result"
    }
   ],
   "source": [
    "a = 7\n",
    "a + 8"
   ]
  },
  {
   "cell_type": "markdown",
   "metadata": {},
   "source": [
    "## Hello\n",
    "### Hello\n",
    "#### Hello\n",
    "In markdown we can embbed $\\LaTeX$ equations:\n",
    "$$\n",
    "\\sum_i \n",
    "$$"
   ]
  },
  {
   "cell_type": "code",
   "execution_count": 4,
   "metadata": {
    "collapsed": false
   },
   "outputs": [
    {
     "name": "stdout",
     "output_type": "stream",
     "text": [
      "7\n",
      "Hello world\n"
     ]
    }
   ],
   "source": [
    "# print function\n",
    "print(a)\n",
    "print(\"Hello world\")\n"
   ]
  },
  {
   "cell_type": "code",
   "execution_count": 6,
   "metadata": {
    "collapsed": false,
    "scrolled": true
   },
   "outputs": [
    {
     "data": {
      "text/plain": [
       "['In',\n",
       " 'Out',\n",
       " '_',\n",
       " '_1',\n",
       " '_2',\n",
       " '_3',\n",
       " '__',\n",
       " '___',\n",
       " '__builtin__',\n",
       " '__builtins__',\n",
       " '__doc__',\n",
       " '__loader__',\n",
       " '__name__',\n",
       " '__package__',\n",
       " '__spec__',\n",
       " '_dh',\n",
       " '_i',\n",
       " '_i1',\n",
       " '_i2',\n",
       " '_i3',\n",
       " '_i4',\n",
       " '_i5',\n",
       " '_i6',\n",
       " '_ih',\n",
       " '_ii',\n",
       " '_iii',\n",
       " '_oh',\n",
       " '_sh',\n",
       " 'a',\n",
       " 'exit',\n",
       " 'get_ipython',\n",
       " 'pepe',\n",
       " 'quit']"
      ]
     },
     "execution_count": 6,
     "metadata": {},
     "output_type": "execute_result"
    }
   ],
   "source": [
    "pepe =\"pepe\"\n",
    "dir() # variables defined (in the current scope)"
   ]
  },
  {
   "cell_type": "markdown",
   "metadata": {},
   "source": [
    "## Strings"
   ]
  },
  {
   "cell_type": "code",
   "execution_count": 7,
   "metadata": {
    "collapsed": false
   },
   "outputs": [
    {
     "data": {
      "text/plain": [
       "'pepe juan'"
      ]
     },
     "execution_count": 7,
     "metadata": {},
     "output_type": "execute_result"
    }
   ],
   "source": [
    "pepe2 = pepe + \" juan\"\n",
    "pepe2"
   ]
  },
  {
   "cell_type": "code",
   "execution_count": 8,
   "metadata": {
    "collapsed": false
   },
   "outputs": [
    {
     "data": {
      "text/plain": [
       "True"
      ]
     },
     "execution_count": 8,
     "metadata": {},
     "output_type": "execute_result"
    }
   ],
   "source": [
    "# Check presence\n",
    "\"juan\" in pepe2"
   ]
  },
  {
   "cell_type": "code",
   "execution_count": 9,
   "metadata": {
    "collapsed": false
   },
   "outputs": [
    {
     "name": "stdout",
     "output_type": "stream",
     "text": [
      "pepe j\n"
     ]
    },
    {
     "data": {
      "text/plain": [
       "'u'"
      ]
     },
     "execution_count": 9,
     "metadata": {},
     "output_type": "execute_result"
    }
   ],
   "source": [
    "# slicing string\n",
    "print(pepe2[0:6])\n",
    "# last element is not included in the slice! start at 0!\n",
    "pepe2[6]"
   ]
  },
  {
   "cell_type": "code",
   "execution_count": 10,
   "metadata": {
    "collapsed": false
   },
   "outputs": [
    {
     "data": {
      "text/plain": [
       "'pepe juanpepe juan'"
      ]
     },
     "execution_count": 10,
     "metadata": {},
     "output_type": "execute_result"
    }
   ],
   "source": [
    "pepe2*2 # multiplication is defined!"
   ]
  },
  {
   "cell_type": "code",
   "execution_count": 12,
   "metadata": {
    "collapsed": false
   },
   "outputs": [
    {
     "data": {
      "text/plain": [
       "'Pepe juan'"
      ]
     },
     "execution_count": 12,
     "metadata": {},
     "output_type": "execute_result"
    }
   ],
   "source": [
    "# use tab to autocomplete!! pepe2.<TAB>\n",
    "pepe2.capitalize()\n",
    "# shift+tab get help of the function in notebook\n"
   ]
  },
  {
   "cell_type": "code",
   "execution_count": 13,
   "metadata": {
    "collapsed": false
   },
   "outputs": [],
   "source": [
    "help(str.upper)"
   ]
  },
  {
   "cell_type": "code",
   "execution_count": 11,
   "metadata": {
    "collapsed": false
   },
   "outputs": [
    {
     "data": {
      "text/plain": [
       "str"
      ]
     },
     "execution_count": 11,
     "metadata": {},
     "output_type": "execute_result"
    }
   ],
   "source": [
    "type(pepe2)"
   ]
  },
  {
   "cell_type": "code",
   "execution_count": 9,
   "metadata": {
    "collapsed": false
   },
   "outputs": [
    {
     "data": {
      "text/plain": [
       "'El dos es: 2 y si lo quiero con decimales es 2.000000'"
      ]
     },
     "execution_count": 9,
     "metadata": {},
     "output_type": "execute_result"
    }
   ],
   "source": [
    "# insert numbers in strings\n",
    "\n",
    "string_con_numero = \"El dos es: %d y si lo quiero con decimales es %f\"%(2,2.000)\n",
    "string_con_numero"
   ]
  },
  {
   "cell_type": "code",
   "execution_count": 26,
   "metadata": {
    "collapsed": false
   },
   "outputs": [
    {
     "data": {
      "text/plain": [
       "(27, '27')"
      ]
     },
     "execution_count": 26,
     "metadata": {},
     "output_type": "execute_result"
    }
   ],
   "source": [
    "string_27 = \"27\"\n",
    "number_27 = int(string_27)\n",
    "number_27,string_27"
   ]
  },
  {
   "cell_type": "markdown",
   "metadata": {},
   "source": [
    "## Lists\n"
   ]
  },
  {
   "cell_type": "code",
   "execution_count": 2,
   "metadata": {
    "collapsed": false
   },
   "outputs": [
    {
     "data": {
      "text/plain": [
       "[2, 3, 4]"
      ]
     },
     "execution_count": 2,
     "metadata": {},
     "output_type": "execute_result"
    }
   ],
   "source": [
    "\n",
    "listilla = [2,3,4]\n",
    "listilla"
   ]
  },
  {
   "cell_type": "code",
   "execution_count": 13,
   "metadata": {
    "collapsed": false
   },
   "outputs": [
    {
     "name": "stdout",
     "output_type": "stream",
     "text": [
      "3\n"
     ]
    },
    {
     "data": {
      "text/plain": [
       "[2]"
      ]
     },
     "execution_count": 13,
     "metadata": {},
     "output_type": "execute_result"
    }
   ],
   "source": [
    "# first index is 0!\n",
    "print(listilla[1])\n",
    "\n",
    "# slice a list:\n",
    "listilla[0:1]"
   ]
  },
  {
   "cell_type": "code",
   "execution_count": 4,
   "metadata": {
    "collapsed": false
   },
   "outputs": [
    {
     "data": {
      "text/plain": [
       "[2, 3, 4, 24]"
      ]
     },
     "execution_count": 4,
     "metadata": {},
     "output_type": "execute_result"
    }
   ],
   "source": [
    "listilla.append(24)\n",
    "listilla"
   ]
  },
  {
   "cell_type": "code",
   "execution_count": 5,
   "metadata": {
    "collapsed": false
   },
   "outputs": [
    {
     "data": {
      "text/plain": [
       "24"
      ]
     },
     "execution_count": 5,
     "metadata": {},
     "output_type": "execute_result"
    }
   ],
   "source": [
    "listilla[-1]"
   ]
  },
  {
   "cell_type": "markdown",
   "metadata": {},
   "source": [
    "### `for` loop over a list"
   ]
  },
  {
   "cell_type": "code",
   "execution_count": 20,
   "metadata": {
    "collapsed": false
   },
   "outputs": [
    {
     "name": "stdout",
     "output_type": "stream",
     "text": [
      "2\n",
      "3\n",
      "4\n",
      "24\n"
     ]
    }
   ],
   "source": [
    "for elem in listilla:\n",
    "    print(elementillo)"
   ]
  },
  {
   "cell_type": "code",
   "execution_count": 7,
   "metadata": {
    "collapsed": false
   },
   "outputs": [
    {
     "name": "stdout",
     "output_type": "stream",
     "text": [
      "Element: 0 is 2.00\n",
      "Element: 1 is 3.00\n",
      "Element: 2 is 4.00\n",
      "Element: 3 is 24.00\n"
     ]
    }
   ],
   "source": [
    "# enumerate\n",
    "for i,element in enumerate(listilla):\n",
    "    print(\"Element: %d is %.2f\"%(i,element))"
   ]
  },
  {
   "cell_type": "code",
   "execution_count": 30,
   "metadata": {
    "collapsed": false
   },
   "outputs": [
    {
     "name": "stdout",
     "output_type": "stream",
     "text": [
      "Element: 0 is 2.00\n",
      "Element: 1 is 3.00\n",
      "Element: 2 is 4.00\n",
      "Element: 3 is 24.00\n",
      "Element: 4 is 2.00\n",
      "2 is very high number\n",
      "Element: 5 is 3.00\n",
      "3 is very high number\n",
      "Element: 6 is 4.00\n",
      "4 is very high number\n",
      "Element: 7 is 24.00\n",
      "24 is very high number\n"
     ]
    },
    {
     "ename": "TypeError",
     "evalue": "a float is required",
     "output_type": "error",
     "traceback": [
      "\u001b[0;31m---------------------------------------------------------------------------\u001b[0m",
      "\u001b[0;31mTypeError\u001b[0m                                 Traceback (most recent call last)",
      "\u001b[0;32m<ipython-input-30-04784620b16f>\u001b[0m in \u001b[0;36m<module>\u001b[0;34m()\u001b[0m\n\u001b[1;32m      1\u001b[0m \u001b[0;31m# enumerate\u001b[0m\u001b[0;34m\u001b[0m\u001b[0;34m\u001b[0m\u001b[0m\n\u001b[1;32m      2\u001b[0m \u001b[0;32mfor\u001b[0m \u001b[0mi\u001b[0m\u001b[0;34m,\u001b[0m\u001b[0melement\u001b[0m \u001b[0;32min\u001b[0m \u001b[0menumerate\u001b[0m\u001b[0;34m(\u001b[0m\u001b[0mlistilla\u001b[0m\u001b[0;34m)\u001b[0m\u001b[0;34m:\u001b[0m\u001b[0;34m\u001b[0m\u001b[0m\n\u001b[0;32m----> 3\u001b[0;31m     \u001b[0mprint\u001b[0m\u001b[0;34m(\u001b[0m\u001b[0;34m\"Element: %d is %.2f\"\u001b[0m\u001b[0;34m%\u001b[0m\u001b[0;34m(\u001b[0m\u001b[0mi\u001b[0m\u001b[0;34m,\u001b[0m\u001b[0melement\u001b[0m\u001b[0;34m)\u001b[0m\u001b[0;34m)\u001b[0m\u001b[0;34m\u001b[0m\u001b[0m\n\u001b[0m\u001b[1;32m      4\u001b[0m     \u001b[0;32mif\u001b[0m \u001b[0mi\u001b[0m \u001b[0;34m>\u001b[0m \u001b[0;36m3\u001b[0m\u001b[0;34m:\u001b[0m\u001b[0;34m\u001b[0m\u001b[0m\n\u001b[1;32m      5\u001b[0m         \u001b[0mprint\u001b[0m\u001b[0;34m(\u001b[0m\u001b[0;34m\"%d is very high number\"\u001b[0m\u001b[0;34m%\u001b[0m\u001b[0melement\u001b[0m\u001b[0;34m)\u001b[0m\u001b[0;34m\u001b[0m\u001b[0m\n",
      "\u001b[0;31mTypeError\u001b[0m: a float is required"
     ]
    }
   ],
   "source": [
    "# enumerate\n",
    "for i,element in enumerate(listilla):\n",
    "    print(\"Element: %d is %.2f\"%(i,element))\n",
    "    if i > 3:\n",
    "        print(\"%d is very high number\"%element)"
   ]
  },
  {
   "cell_type": "code",
   "execution_count": 28,
   "metadata": {
    "collapsed": false
   },
   "outputs": [
    {
     "data": {
      "text/plain": [
       "[2, 3, 4, 24, 'texto']"
      ]
     },
     "execution_count": 28,
     "metadata": {},
     "output_type": "execute_result"
    }
   ],
   "source": [
    "# list can be non-homogeneus\n",
    "listilla.append(\"texto\")\n",
    "listilla"
   ]
  },
  {
   "cell_type": "code",
   "execution_count": 10,
   "metadata": {
    "collapsed": false
   },
   "outputs": [
    {
     "data": {
      "text/plain": [
       "[2, 3, 4, 24, 'patatas', 34, [2, 3]]"
      ]
     },
     "execution_count": 10,
     "metadata": {},
     "output_type": "execute_result"
    }
   ],
   "source": [
    "# add lists\n",
    "lista2 = listilla + [\"patatas\", 34, [2,3]]\n",
    "lista2 #  :(\n"
   ]
  },
  {
   "cell_type": "code",
   "execution_count": 31,
   "metadata": {
    "collapsed": false
   },
   "outputs": [
    {
     "data": {
      "text/plain": [
       "list"
      ]
     },
     "execution_count": 31,
     "metadata": {},
     "output_type": "execute_result"
    }
   ],
   "source": [
    "type(lista2)"
   ]
  },
  {
   "cell_type": "code",
   "execution_count": 11,
   "metadata": {
    "collapsed": false
   },
   "outputs": [
    {
     "data": {
      "text/plain": [
       "[2, 3, 4, 24, 2, 3, 4, 24, 'patatas', 34, [2, 3]]"
      ]
     },
     "execution_count": 11,
     "metadata": {},
     "output_type": "execute_result"
    }
   ],
   "source": [
    "# use tab to autocomplete!!\n",
    "listilla.extend(lista2)\n",
    "listilla"
   ]
  },
  {
   "cell_type": "markdown",
   "metadata": {},
   "source": [
    "### List comprehensions"
   ]
  },
  {
   "cell_type": "code",
   "execution_count": 37,
   "metadata": {
    "collapsed": false
   },
   "outputs": [
    {
     "data": {
      "text/plain": [
       "[5, 6, 7]"
      ]
     },
     "execution_count": 37,
     "metadata": {},
     "output_type": "execute_result"
    }
   ],
   "source": [
    "listilla = [2,3,4]\n",
    "\n",
    "suma = [i+3 for i in listilla]\n",
    "suma"
   ]
  },
  {
   "cell_type": "code",
   "execution_count": 41,
   "metadata": {
    "collapsed": false
   },
   "outputs": [
    {
     "name": "stdout",
     "output_type": "stream",
     "text": [
      "[4, 5]\n"
     ]
    },
    {
     "data": {
      "text/plain": [
       "[4, 5]"
      ]
     },
     "execution_count": 41,
     "metadata": {},
     "output_type": "execute_result"
    }
   ],
   "source": [
    "print([i+1 for i in listilla if i > 2])\n",
    "\n",
    "# equivalent to:\n",
    "lista = []\n",
    "for i in listilla:\n",
    "    if i > 2:\n",
    "        lista.append(i+1)\n",
    "lista\n"
   ]
  },
  {
   "cell_type": "code",
   "execution_count": 43,
   "metadata": {
    "collapsed": false
   },
   "outputs": [
    {
     "data": {
      "text/plain": [
       "[(2, 5), (3, 6), (4, 7)]"
      ]
     },
     "execution_count": 43,
     "metadata": {},
     "output_type": "execute_result"
    }
   ],
   "source": [
    "# iterating over two list at the same time\n",
    "[(i,j) for i,j in zip(listilla,suma)]\n"
   ]
  },
  {
   "cell_type": "code",
   "execution_count": 45,
   "metadata": {
    "collapsed": false
   },
   "outputs": [
    {
     "data": {
      "text/plain": [
       "[[0, 0], [1, 0], [1, 1], [2, 0], [2, 1], [2, 2]]"
      ]
     },
     "execution_count": 45,
     "metadata": {},
     "output_type": "execute_result"
    }
   ],
   "source": [
    "# range-> contiene 0,1,2 no el 3!\n",
    "[[i,j] for i in range(0,3) for j in range(0,3) if j <= i]"
   ]
  },
  {
   "cell_type": "markdown",
   "metadata": {},
   "source": [
    "## Functions"
   ]
  },
  {
   "cell_type": "code",
   "execution_count": 15,
   "metadata": {
    "collapsed": false
   },
   "outputs": [
    {
     "data": {
      "text/plain": [
       "8"
      ]
     },
     "execution_count": 15,
     "metadata": {},
     "output_type": "execute_result"
    }
   ],
   "source": [
    "def funcioncilla(b):\n",
    "    b = b +3\n",
    "    return b-2\n",
    "\n",
    "num = funcioncilla(7)\n",
    "num"
   ]
  },
  {
   "cell_type": "code",
   "execution_count": 20,
   "metadata": {
    "collapsed": false
   },
   "outputs": [
    {
     "name": "stdout",
     "output_type": "stream",
     "text": [
      "La salida 1 es: 40 y la 2 es: patata fritas\n"
     ]
    }
   ],
   "source": [
    "# multiple output func\n",
    "def funcioncilla_multiple(b,c=\"patata\",d=27):\n",
    "    b = b +3 + d\n",
    "    return b-2,c+\" fritas\"\n",
    "\n",
    "primero, segundo = funcioncilla_multiple(12)\n",
    "\n",
    "\n",
    "print(\"La salida 1 es: %d y la 2 es: %s\"%(primero,segundo))"
   ]
  },
  {
   "cell_type": "code",
   "execution_count": 28,
   "metadata": {
    "collapsed": false
   },
   "outputs": [
    {
     "name": "stdout",
     "output_type": "stream",
     "text": [
      "(40, 'patata fritas')\n",
      "40\n"
     ]
    },
    {
     "data": {
      "text/plain": [
       "(40, 'patata fritas')"
      ]
     },
     "execution_count": 28,
     "metadata": {},
     "output_type": "execute_result"
    }
   ],
   "source": [
    "cosas = funcioncilla_multiple(12)\n",
    "cosas # cosa is a tuple (fixed size list, you cannot append new elements)\n",
    "\n",
    "print(cosas)\n",
    "type(cosas)\n",
    "\n",
    "print(cosas[0])\n",
    "\n",
    "cosas[:2]"
   ]
  },
  {
   "cell_type": "code",
   "execution_count": 22,
   "metadata": {
    "collapsed": false
   },
   "outputs": [
    {
     "data": {
      "text/plain": [
       "(61, 'berenjenas fritas')"
      ]
     },
     "execution_count": 22,
     "metadata": {},
     "output_type": "execute_result"
    }
   ],
   "source": [
    "funcioncilla_multiple(33,\"berenjenas\") # equivalente a funcioncilla_multiple(33,c=\"berenjenas\")"
   ]
  },
  {
   "cell_type": "code",
   "execution_count": 23,
   "metadata": {
    "collapsed": false
   },
   "outputs": [
    {
     "data": {
      "text/plain": [
       "(35, 'patata fritas')"
      ]
     },
     "execution_count": 23,
     "metadata": {},
     "output_type": "execute_result"
    }
   ],
   "source": [
    "funcioncilla_multiple(d=1,b=33)"
   ]
  },
  {
   "cell_type": "markdown",
   "metadata": {},
   "source": [
    "## Modules\n",
    "\n",
    "We will use our **first** module `os` (https://docs.python.org/3.5/library/os.html) from the python standard library."
   ]
  },
  {
   "cell_type": "code",
   "execution_count": 65,
   "metadata": {
    "collapsed": false
   },
   "outputs": [
    {
     "name": "stdout",
     "output_type": "stream",
     "text": [
      "/home/gonzalo/python_course_ipl\n",
      "['ficheros_etiquetados.txt', 'pass_wifi_3k', 'MATLAB']\n"
     ]
    }
   ],
   "source": [
    "import os\n",
    "\n",
    "os.path.exists(\"server.py\")\n",
    "\n",
    "home_dir = os.getenv(\"HOME\") ## setenv\n",
    "\n",
    "print(os.getcwd())\n",
    "\n",
    "dir_documents_contents  = os.listdir(os.path.join(os.getenv(\"HOME\"),\n",
    "                                                  \"Documents\")) # path.join listdir\n",
    "print(dir_documents_contents[0:4])"
   ]
  },
  {
   "cell_type": "markdown",
   "metadata": {},
   "source": [
    "#### Import syntax"
   ]
  },
  {
   "cell_type": "code",
   "execution_count": 5,
   "metadata": {
    "collapsed": false
   },
   "outputs": [
    {
     "data": {
      "text/plain": [
       "'/home/gonmagar'"
      ]
     },
     "execution_count": 5,
     "metadata": {},
     "output_type": "execute_result"
    }
   ],
   "source": [
    "from os import getenv\n",
    "getenv(\"HOME\")\n",
    "\n",
    "# To import all functions:\n",
    "# from os import * \n",
    "# But it is highly not recomended!! :S\n"
   ]
  },
  {
   "cell_type": "code",
   "execution_count": 6,
   "metadata": {
    "collapsed": false
   },
   "outputs": [
    {
     "data": {
      "text/plain": [
       "2.3666666666666667"
      ]
     },
     "execution_count": 6,
     "metadata": {},
     "output_type": "execute_result"
    }
   ],
   "source": [
    "import numpy as np #named imports\n",
    "\n",
    "np.mean([2,3,2.1]))\n"
   ]
  },
  {
   "cell_type": "code",
   "execution_count": 7,
   "metadata": {
    "collapsed": false
   },
   "outputs": [
    {
     "ename": "NameError",
     "evalue": "name 'numpy' is not defined",
     "output_type": "error",
     "traceback": [
      "\u001b[0;31m---------------------------------------------------------------------------\u001b[0m",
      "\u001b[0;31mNameError\u001b[0m                                 Traceback (most recent call last)",
      "\u001b[0;32m<ipython-input-7-49aac6994fe4>\u001b[0m in \u001b[0;36m<module>\u001b[0;34m()\u001b[0m\n\u001b[0;32m----> 1\u001b[0;31m \u001b[0mnumpy\u001b[0m\u001b[0;34m.\u001b[0m\u001b[0mmean\u001b[0m\u001b[0;34m(\u001b[0m\u001b[0;34m[\u001b[0m\u001b[0;36m2\u001b[0m\u001b[0;34m,\u001b[0m\u001b[0;36m3\u001b[0m\u001b[0;34m,\u001b[0m\u001b[0;36m2.1\u001b[0m\u001b[0;34m]\u001b[0m\u001b[0;34m)\u001b[0m\u001b[0;34m\u001b[0m\u001b[0m\n\u001b[0m",
      "\u001b[0;31mNameError\u001b[0m: name 'numpy' is not defined"
     ]
    }
   ],
   "source": [
    "numpy.mean([2,3,2.1]) # ups -> if we do a named import, the namespace of the functions is the name we gave"
   ]
  },
  {
   "cell_type": "code",
   "execution_count": 8,
   "metadata": {
    "collapsed": false
   },
   "outputs": [
    {
     "data": {
      "text/plain": [
       "masked_array(data = [-- -- 5 1],\n",
       "             mask = [ True  True False False],\n",
       "       fill_value = 999999)"
      ]
     },
     "execution_count": 8,
     "metadata": {},
     "output_type": "execute_result"
    }
   ],
   "source": [
    "import numpy.ma as ma\n",
    "ma.masked_array([2,3,5,1],[True,True,False,False])"
   ]
  },
  {
   "cell_type": "code",
   "execution_count": 9,
   "metadata": {
    "collapsed": false
   },
   "outputs": [
    {
     "data": {
      "text/plain": [
       "'/home/gonmagar/miniconda3/envs/python_course/lib/python3.5/site-packages/numpy/__init__.py'"
      ]
     },
     "execution_count": 9,
     "metadata": {},
     "output_type": "execute_result"
    }
   ],
   "source": [
    "# module location\n",
    "np.__file__"
   ]
  },
  {
   "cell_type": "markdown",
   "metadata": {},
   "source": [
    "Where does python search the modules? (https://docs.python.org/3.5/tutorial/modules.html#the-module-search-path)"
   ]
  },
  {
   "cell_type": "code",
   "execution_count": 10,
   "metadata": {
    "collapsed": false
   },
   "outputs": [
    {
     "data": {
      "text/plain": [
       "['',\n",
       " '/home/gonmagar/miniconda3/envs/python_course/lib/python35.zip',\n",
       " '/home/gonmagar/miniconda3/envs/python_course/lib/python3.5',\n",
       " '/home/gonmagar/miniconda3/envs/python_course/lib/python3.5/plat-linux',\n",
       " '/home/gonmagar/miniconda3/envs/python_course/lib/python3.5/lib-dynload',\n",
       " '/home/gonmagar/miniconda3/envs/python_course/lib/python3.5/site-packages',\n",
       " '/home/gonmagar/miniconda3/envs/python_course/lib/python3.5/site-packages/contextlib2-0.5.3-py3.5.egg',\n",
       " '/home/gonmagar/miniconda3/envs/python_course/lib/python3.5/site-packages/cycler-0.10.0-py3.5.egg',\n",
       " '/home/gonmagar/miniconda3/envs/python_course/lib/python3.5/site-packages/setuptools-27.2.0-py3.5.egg',\n",
       " '/home/gonmagar/miniconda3/envs/python_course/lib/python3.5/site-packages/IPython/extensions',\n",
       " '/home/gonmagar/.ipython']"
      ]
     },
     "execution_count": 10,
     "metadata": {},
     "output_type": "execute_result"
    }
   ],
   "source": [
    "import sys\n",
    "sys.path"
   ]
  },
  {
   "cell_type": "markdown",
   "metadata": {},
   "source": [
    "### modules\n",
    "**Modules are just files with functions and variables defined on them!**\n",
    "\n",
    "Open the `modulillo.py` file with `spyder` editor (or other editor of your choice).\n",
    "\n",
    "The **C**urrent **W**orking **D**irectory (`os.getcwd()`) is always included in the path. so we can import modules which are on it.\n",
    "\n",
    "But... what's a *module*? A module is just a `.py` file. \n",
    "\n",
    "If we put in a `.py` file a bunch of functions, and classes we can access to them easily:"
   ]
  },
  {
   "cell_type": "code",
   "execution_count": 67,
   "metadata": {
    "collapsed": false
   },
   "outputs": [
    {
     "name": "stdout",
     "output_type": "stream",
     "text": [
      "The module is in the cwd? True\n"
     ]
    },
    {
     "data": {
      "text/plain": [
       "['variable', 'capitalize means by convection constant']"
      ]
     },
     "execution_count": 67,
     "metadata": {},
     "output_type": "execute_result"
    }
   ],
   "source": [
    "print(\"The module is in the cwd? {}\".format(os.path.exists(\"modulillo.py\")))\n",
    "# try to open manually the file!\n",
    "import modulillo\n",
    "# modulillo.<tab>\n",
    "modulillo.funcioncilla_multiple(12)\n",
    "\n",
    "modulillo.PATATAS\n",
    "# modulillo.PATATAS is a variable"
   ]
  },
  {
   "cell_type": "code",
   "execution_count": 21,
   "metadata": {
    "collapsed": false
   },
   "outputs": [
    {
     "name": "stdout",
     "output_type": "stream",
     "text": [
      "/home/gonmagar/python_course_ipl/modulillo.py\n",
      "The module is in the cwd? True\n"
     ]
    }
   ],
   "source": [
    "# More I/O (forget of bash forever)\n",
    "\n",
    "abs_path = os.path.abspath(\"modulillo.py\")\n",
    "print(abs_path)\n",
    "print(\"The module is in the cwd? {}\".format(os.path.exists(os.path.join(os.getcwd(),\"modulillo.py\"))))\n"
   ]
  },
  {
   "cell_type": "code",
   "execution_count": 5,
   "metadata": {
    "collapsed": false,
    "scrolled": true
   },
   "outputs": [
    {
     "data": {
      "text/plain": [
       "['AnimalImage',\n",
       " 'PATATAS',\n",
       " '__builtins__',\n",
       " '__cached__',\n",
       " '__doc__',\n",
       " '__file__',\n",
       " '__loader__',\n",
       " '__name__',\n",
       " '__package__',\n",
       " '__spec__',\n",
       " 'funcioncilla_multiple']"
      ]
     },
     "execution_count": 5,
     "metadata": {},
     "output_type": "execute_result"
    }
   ],
   "source": [
    "# Which names a module defines? modulillo.<TAB>\n",
    "dir(modulillo)"
   ]
  },
  {
   "cell_type": "code",
   "execution_count": 1,
   "metadata": {
    "collapsed": false
   },
   "outputs": [
    {
     "data": {
      "text/plain": [
       "'1.11.1'"
      ]
     },
     "execution_count": 1,
     "metadata": {},
     "output_type": "execute_result"
    }
   ],
   "source": [
    "# Installed modules includes by convection a __version__ number. \n",
    "# Important to check when something goes wrong!\n",
    "import numpy as np\n",
    "np.__version__"
   ]
  },
  {
   "cell_type": "markdown",
   "metadata": {},
   "source": [
    "## Write/Read files"
   ]
  },
  {
   "cell_type": "code",
   "execution_count": 25,
   "metadata": {
    "collapsed": false
   },
   "outputs": [
    {
     "name": "stdout",
     "output_type": "stream",
     "text": [
      "['patatas\\n', 'fritas\\n', 'salida\\n', 'hola\\n', 'cosas\\n']\n"
     ]
    }
   ],
   "source": [
    "salida = \"salida.txt\"\n",
    "\n",
    "# Write lines\n",
    "contenido = [\"patatas\",\"fritas\",\"salida\",\"hola\"]\n",
    "contenido.append(\"cosas\")\n",
    "\n",
    "with open(salida,\"w\") as f:\n",
    "    f.writelines([doccont+\"\\n\" for doccont in contenido])\n",
    "\n",
    "# Read all lines\n",
    "with open(salida,\"r\") as r:\n",
    "    lineas = r.readlines()\n",
    "\n",
    "print(lineas)"
   ]
  },
  {
   "cell_type": "markdown",
   "metadata": {},
   "source": [
    "## Reading data from web\n",
    "Download the html from a web. We use the `urllib` module from the python standard library.\n",
    "\n",
    "See [scrappy](https://scrapy.org/) for more \"professional\" web scrapping or [requests](https://requests.readthedocs.io/en/master/)."
   ]
  },
  {
   "cell_type": "code",
   "execution_count": 70,
   "metadata": {
    "collapsed": false
   },
   "outputs": [
    {
     "data": {
      "text/plain": [
       "b'<!DOCTYPE html>\\n<html lang=\"en\">\\n  <head>\\n    <meta charset=\"utf-8\">\\n    <meta http-equiv=\"X-UA-Compatible\" content=\"IE=edge\">\\n    <meta name=\"viewport\" content=\"width=device-width, initial-scale=1\">\\n    <!-- The above 3 meta tags *must* come first in the head; any other head content must come *after* these tags -->\\n    <meta name=\"description\" content=\"\">\\n    <meta name=\"author\" content=\"\">\\n    <link rel=\"icon\" href=\"../../favicon.ico\">\\n\\n    <title>ISP - Image and Signal Processing group</title>\\n\\n    <!-- Bootstrap core CSS -->\\n    <link href=\"css/bootstrap.min.css\" rel=\"stylesheet\">\\n    <!-- Bootstrap theme -->\\n    <link href=\"css/bootstrap-theme.min.css\" rel=\"stylesheet\">\\n\\n    <!-- Custom'"
      ]
     },
     "execution_count": 70,
     "metadata": {},
     "output_type": "execute_result"
    }
   ],
   "source": [
    "import urllib.request\n",
    "req = urllib.request.urlopen('http://isp.uv.es/')\n",
    "data = req.read()\n",
    "data[0:700]\n",
    "\n",
    "# Display data as HTML!!!\n",
    "# from IPython.display import HTML,display\n",
    "# display(HTML(\"<iframe>\"+str(data)+\"</iframe>\"))"
   ]
  },
  {
   "cell_type": "markdown",
   "metadata": {},
   "source": [
    "## Preparing for the exercises\n",
    "\n",
    "Code for downloading the data of [dogs vs cats kaggle competition](https://www.kaggle.com/c/dogs-vs-cats-redux-kernels-edition)."
   ]
  },
  {
   "cell_type": "code",
   "execution_count": 29,
   "metadata": {
    "collapsed": false
   },
   "outputs": [
    {
     "ename": "NameError",
     "evalue": "name 'os' is not defined",
     "output_type": "error",
     "traceback": [
      "\u001b[0;31m---------------------------------------------------------------------------\u001b[0m",
      "\u001b[0;31mNameError\u001b[0m                                 Traceback (most recent call last)",
      "\u001b[0;32m<ipython-input-29-76ad35be2ca5>\u001b[0m in \u001b[0;36m<module>\u001b[0;34m()\u001b[0m\n\u001b[1;32m      3\u001b[0m \u001b[0;31m# Download data\u001b[0m\u001b[0;34m\u001b[0m\u001b[0;34m\u001b[0m\u001b[0m\n\u001b[1;32m      4\u001b[0m \u001b[0;34m\u001b[0m\u001b[0m\n\u001b[0;32m----> 5\u001b[0;31m \u001b[0;32mif\u001b[0m \u001b[0;32mnot\u001b[0m \u001b[0mos\u001b[0m\u001b[0;34m.\u001b[0m\u001b[0mpath\u001b[0m\u001b[0;34m.\u001b[0m\u001b[0mexists\u001b[0m\u001b[0;34m(\u001b[0m\u001b[0mtrain_file\u001b[0m\u001b[0;34m)\u001b[0m\u001b[0;34m:\u001b[0m\u001b[0;34m\u001b[0m\u001b[0m\n\u001b[0m\u001b[1;32m      6\u001b[0m     \u001b[0mprint\u001b[0m\u001b[0;34m(\u001b[0m\u001b[0;34m\"Proceding to download the data. This process may take some time..\"\u001b[0m\u001b[0;34m)\u001b[0m\u001b[0;34m\u001b[0m\u001b[0m\n\u001b[1;32m      7\u001b[0m     \u001b[0murllib\u001b[0m\u001b[0;34m.\u001b[0m\u001b[0mrequest\u001b[0m\u001b[0;34m.\u001b[0m\u001b[0murlretrieve\u001b[0m\u001b[0;34m(\u001b[0m\u001b[0;34m\"https://www.dropbox.com/s/8lbkqktfofzjraj/train.zip?raw=1\"\u001b[0m\u001b[0;34m,\u001b[0m \u001b[0mtrain_file\u001b[0m\u001b[0;34m)\u001b[0m\u001b[0;34m\u001b[0m\u001b[0m\n",
      "\u001b[0;31mNameError\u001b[0m: name 'os' is not defined"
     ]
    }
   ],
   "source": [
    "# urllib.request.urlretrieve('http://example.com/big.zip', 'file/on/disk.zip')\n",
    "train_file = \"train.zip\"\n",
    "# Download data\n",
    "\n",
    "if not os.path.exists(train_file):\n",
    "    print(\"Proceding to download the data. This process may take some time..\")\n",
    "    urllib.request.urlretrieve(\"https://www.dropbox.com/s/8lbkqktfofzjraj/train.zip?raw=1\", train_file)\n",
    "    print(\"Done\")\n",
    "else:\n",
    "    print(\"data file %s has already been downloaded\"%(train_file))"
   ]
  },
  {
   "cell_type": "code",
   "execution_count": 77,
   "metadata": {
    "collapsed": false
   },
   "outputs": [
    {
     "name": "stdout",
     "output_type": "stream",
     "text": [
      "Data has already been extracted\n"
     ]
    }
   ],
   "source": [
    "# unzip files\n",
    "import zipfile\n",
    "\n",
    "# If folder train does not exists extract all elements\n",
    "train_folder = \"train\"\n",
    "if not os.path.exists(train_folder):\n",
    "    with zipfile.ZipFile(train_file, 'r') as myzip:\n",
    "        myzip.extractall()\n",
    "    print(\"Extracted\")\n",
    "else:\n",
    "    print(\"Data has already been extracted\")\n",
    "    \n",
    "all_files = os.listdir(\"train\")"
   ]
  },
  {
   "cell_type": "code",
   "execution_count": 78,
   "metadata": {
    "collapsed": false
   },
   "outputs": [
    {
     "data": {
      "text/plain": [
       "['dog.3602.jpg',\n",
       " 'dog.4617.jpg',\n",
       " 'cat.2898.jpg',\n",
       " 'dog.7877.jpg',\n",
       " 'dog.11876.jpg',\n",
       " 'dog.10094.jpg',\n",
       " 'dog.7003.jpg',\n",
       " 'cat.9515.jpg',\n",
       " 'dog.7350.jpg',\n",
       " 'cat.11233.jpg',\n",
       " 'cat.10267.jpg',\n",
       " 'cat.11524.jpg',\n",
       " 'cat.6954.jpg',\n",
       " 'cat.6824.jpg',\n",
       " 'dog.8757.jpg',\n",
       " 'dog.6174.jpg',\n",
       " 'dog.9690.jpg',\n",
       " 'dog.11641.jpg',\n",
       " 'cat.1319.jpg',\n",
       " 'dog.5476.jpg',\n",
       " 'dog.5264.jpg',\n",
       " 'dog.10921.jpg',\n",
       " 'dog.6914.jpg',\n",
       " 'cat.775.jpg',\n",
       " 'dog.418.jpg',\n",
       " 'dog.4513.jpg',\n",
       " 'cat.11277.jpg',\n",
       " 'dog.6713.jpg',\n",
       " 'dog.5677.jpg',\n",
       " 'cat.4009.jpg',\n",
       " 'cat.5491.jpg',\n",
       " 'dog.5651.jpg',\n",
       " 'cat.9774.jpg',\n",
       " 'dog.10490.jpg',\n",
       " 'cat.295.jpg',\n",
       " 'dog.1640.jpg',\n",
       " 'cat.5675.jpg',\n",
       " 'dog.11372.jpg',\n",
       " 'cat.9886.jpg',\n",
       " 'cat.2099.jpg',\n",
       " 'dog.6906.jpg',\n",
       " 'dog.272.jpg',\n",
       " 'cat.9947.jpg',\n",
       " 'dog.940.jpg',\n",
       " 'cat.5482.jpg',\n",
       " 'cat.7247.jpg',\n",
       " 'dog.11112.jpg',\n",
       " 'cat.8012.jpg',\n",
       " 'cat.7976.jpg',\n",
       " 'dog.5293.jpg',\n",
       " 'dog.7392.jpg',\n",
       " 'dog.9339.jpg',\n",
       " 'cat.4434.jpg',\n",
       " 'dog.10641.jpg',\n",
       " 'dog.2114.jpg',\n",
       " 'cat.2805.jpg',\n",
       " 'cat.3568.jpg',\n",
       " 'dog.6055.jpg',\n",
       " 'dog.1760.jpg',\n",
       " 'dog.4135.jpg',\n",
       " 'cat.5101.jpg',\n",
       " 'dog.9540.jpg',\n",
       " 'cat.4203.jpg',\n",
       " 'dog.10740.jpg',\n",
       " 'cat.6250.jpg',\n",
       " 'cat.12188.jpg',\n",
       " 'cat.6473.jpg',\n",
       " 'cat.8235.jpg',\n",
       " 'dog.5691.jpg',\n",
       " 'cat.8779.jpg',\n",
       " 'dog.2005.jpg',\n",
       " 'dog.5684.jpg',\n",
       " 'dog.933.jpg',\n",
       " 'cat.2871.jpg',\n",
       " 'cat.11780.jpg',\n",
       " 'dog.802.jpg',\n",
       " 'cat.4043.jpg',\n",
       " 'dog.825.jpg',\n",
       " 'cat.6974.jpg',\n",
       " 'dog.8476.jpg',\n",
       " 'dog.2824.jpg',\n",
       " 'dog.784.jpg',\n",
       " 'cat.2767.jpg',\n",
       " 'cat.11562.jpg',\n",
       " 'dog.10793.jpg',\n",
       " 'cat.5313.jpg',\n",
       " 'dog.11023.jpg',\n",
       " 'dog.3596.jpg',\n",
       " 'cat.7204.jpg',\n",
       " 'dog.4569.jpg',\n",
       " 'dog.7213.jpg',\n",
       " 'cat.1293.jpg',\n",
       " 'cat.5135.jpg',\n",
       " 'cat.510.jpg',\n",
       " 'dog.5559.jpg',\n",
       " 'cat.7725.jpg',\n",
       " 'dog.5552.jpg',\n",
       " 'dog.5189.jpg',\n",
       " 'cat.9076.jpg',\n",
       " 'dog.8832.jpg',\n",
       " 'cat.10797.jpg',\n",
       " 'cat.11427.jpg',\n",
       " 'dog.4783.jpg',\n",
       " 'cat.3430.jpg',\n",
       " 'cat.11015.jpg',\n",
       " 'dog.10386.jpg',\n",
       " 'cat.3263.jpg',\n",
       " 'cat.2867.jpg',\n",
       " 'dog.986.jpg',\n",
       " 'cat.3399.jpg',\n",
       " 'cat.11316.jpg',\n",
       " 'cat.12060.jpg',\n",
       " 'cat.6814.jpg',\n",
       " 'dog.12123.jpg',\n",
       " 'cat.8312.jpg',\n",
       " 'cat.1476.jpg',\n",
       " 'dog.9461.jpg',\n",
       " 'cat.5775.jpg',\n",
       " 'dog.11731.jpg',\n",
       " 'cat.4639.jpg',\n",
       " 'dog.11161.jpg',\n",
       " 'cat.702.jpg',\n",
       " 'dog.1824.jpg',\n",
       " 'cat.9022.jpg',\n",
       " 'dog.5942.jpg',\n",
       " 'dog.1848.jpg',\n",
       " 'cat.8387.jpg',\n",
       " 'cat.8763.jpg',\n",
       " 'dog.4353.jpg',\n",
       " 'dog.1351.jpg',\n",
       " 'dog.9598.jpg',\n",
       " 'cat.5523.jpg',\n",
       " 'dog.7402.jpg',\n",
       " 'dog.2004.jpg',\n",
       " 'dog.1917.jpg',\n",
       " 'cat.4511.jpg',\n",
       " 'dog.2149.jpg',\n",
       " 'cat.10846.jpg',\n",
       " 'dog.8224.jpg',\n",
       " 'dog.4732.jpg',\n",
       " 'dog.3801.jpg',\n",
       " 'cat.9528.jpg',\n",
       " 'dog.10275.jpg',\n",
       " 'cat.323.jpg',\n",
       " 'dog.1923.jpg',\n",
       " 'dog.2566.jpg',\n",
       " 'dog.9550.jpg',\n",
       " 'cat.4318.jpg',\n",
       " 'dog.8342.jpg',\n",
       " 'dog.5276.jpg',\n",
       " 'dog.2740.jpg',\n",
       " 'dog.10077.jpg',\n",
       " 'cat.8443.jpg',\n",
       " 'cat.6202.jpg',\n",
       " 'dog.7388.jpg',\n",
       " 'cat.12154.jpg',\n",
       " 'dog.11320.jpg',\n",
       " 'cat.9313.jpg',\n",
       " 'cat.10240.jpg',\n",
       " 'cat.5862.jpg',\n",
       " 'cat.4137.jpg',\n",
       " 'cat.2693.jpg',\n",
       " 'dog.37.jpg',\n",
       " 'dog.2631.jpg',\n",
       " 'cat.8037.jpg',\n",
       " 'cat.2870.jpg',\n",
       " 'cat.3067.jpg',\n",
       " 'cat.2765.jpg',\n",
       " 'dog.11536.jpg',\n",
       " 'cat.2442.jpg',\n",
       " 'dog.10348.jpg',\n",
       " 'cat.1330.jpg',\n",
       " 'cat.2860.jpg',\n",
       " 'cat.2068.jpg',\n",
       " 'dog.11613.jpg',\n",
       " 'cat.4600.jpg',\n",
       " 'cat.6767.jpg',\n",
       " 'cat.4360.jpg',\n",
       " 'dog.566.jpg',\n",
       " 'cat.11925.jpg',\n",
       " 'dog.3860.jpg',\n",
       " 'dog.11418.jpg',\n",
       " 'cat.6002.jpg',\n",
       " 'cat.3365.jpg',\n",
       " 'dog.451.jpg',\n",
       " 'cat.12099.jpg',\n",
       " 'dog.210.jpg',\n",
       " 'dog.5022.jpg',\n",
       " 'dog.2769.jpg',\n",
       " 'dog.2905.jpg',\n",
       " 'dog.900.jpg',\n",
       " 'dog.2191.jpg',\n",
       " 'dog.9877.jpg',\n",
       " 'cat.4502.jpg',\n",
       " 'cat.8498.jpg',\n",
       " 'dog.448.jpg',\n",
       " 'cat.3128.jpg',\n",
       " 'cat.11964.jpg',\n",
       " 'cat.8830.jpg',\n",
       " 'dog.5710.jpg',\n",
       " 'cat.10213.jpg',\n",
       " 'dog.6115.jpg',\n",
       " 'dog.10665.jpg',\n",
       " 'dog.11044.jpg',\n",
       " 'cat.4239.jpg',\n",
       " 'dog.8019.jpg',\n",
       " 'dog.5388.jpg',\n",
       " 'cat.8207.jpg',\n",
       " 'dog.2476.jpg',\n",
       " 'cat.9223.jpg',\n",
       " 'cat.3468.jpg',\n",
       " 'cat.12473.jpg',\n",
       " 'cat.802.jpg',\n",
       " 'dog.5620.jpg',\n",
       " 'dog.4893.jpg',\n",
       " 'cat.11079.jpg',\n",
       " 'cat.4170.jpg',\n",
       " 'cat.3401.jpg',\n",
       " 'cat.7448.jpg',\n",
       " 'dog.12225.jpg',\n",
       " 'dog.9183.jpg',\n",
       " 'cat.11267.jpg',\n",
       " 'dog.2678.jpg',\n",
       " 'dog.7513.jpg',\n",
       " 'cat.2992.jpg',\n",
       " 'dog.8765.jpg',\n",
       " 'cat.4829.jpg',\n",
       " 'dog.11251.jpg',\n",
       " 'dog.3303.jpg',\n",
       " 'dog.8644.jpg',\n",
       " 'cat.11575.jpg',\n",
       " 'cat.7030.jpg',\n",
       " 'dog.2274.jpg',\n",
       " 'dog.9438.jpg',\n",
       " 'dog.5721.jpg',\n",
       " 'dog.4858.jpg',\n",
       " 'dog.1483.jpg',\n",
       " 'cat.90.jpg',\n",
       " 'dog.755.jpg',\n",
       " 'cat.3819.jpg',\n",
       " 'cat.5602.jpg',\n",
       " 'dog.1181.jpg',\n",
       " 'cat.2491.jpg',\n",
       " 'cat.4050.jpg',\n",
       " 'cat.11839.jpg',\n",
       " 'cat.11198.jpg',\n",
       " 'dog.2028.jpg',\n",
       " 'cat.10192.jpg',\n",
       " 'cat.4841.jpg',\n",
       " 'cat.9981.jpg',\n",
       " 'cat.10073.jpg',\n",
       " 'cat.5146.jpg',\n",
       " 'dog.4619.jpg',\n",
       " 'dog.1983.jpg',\n",
       " 'cat.10130.jpg',\n",
       " 'cat.10121.jpg',\n",
       " 'cat.547.jpg',\n",
       " 'cat.8604.jpg',\n",
       " 'dog.12039.jpg',\n",
       " 'cat.9635.jpg',\n",
       " 'dog.8608.jpg',\n",
       " 'cat.2984.jpg',\n",
       " 'cat.4993.jpg',\n",
       " 'dog.1200.jpg',\n",
       " 'dog.2834.jpg',\n",
       " 'cat.10266.jpg',\n",
       " 'cat.12278.jpg',\n",
       " 'cat.2795.jpg',\n",
       " 'cat.5030.jpg',\n",
       " 'cat.7102.jpg',\n",
       " 'dog.11391.jpg',\n",
       " 'dog.1299.jpg',\n",
       " 'dog.1588.jpg',\n",
       " 'cat.7260.jpg',\n",
       " 'dog.5252.jpg',\n",
       " 'cat.8262.jpg',\n",
       " 'dog.1079.jpg',\n",
       " 'dog.3649.jpg',\n",
       " 'cat.1899.jpg',\n",
       " 'dog.7449.jpg',\n",
       " 'cat.12127.jpg',\n",
       " 'cat.65.jpg',\n",
       " 'cat.11720.jpg',\n",
       " 'cat.8728.jpg',\n",
       " 'cat.155.jpg',\n",
       " 'dog.8884.jpg',\n",
       " 'dog.5093.jpg',\n",
       " 'dog.6438.jpg',\n",
       " 'dog.5961.jpg',\n",
       " 'cat.12196.jpg',\n",
       " 'dog.10977.jpg',\n",
       " 'dog.9463.jpg',\n",
       " 'cat.6128.jpg',\n",
       " 'cat.3104.jpg',\n",
       " 'dog.5356.jpg',\n",
       " 'cat.6885.jpg',\n",
       " 'dog.6857.jpg',\n",
       " 'cat.2021.jpg',\n",
       " 'dog.7204.jpg',\n",
       " 'dog.2206.jpg',\n",
       " 'cat.2752.jpg',\n",
       " 'cat.10868.jpg',\n",
       " 'dog.11257.jpg',\n",
       " 'dog.2519.jpg',\n",
       " 'cat.9194.jpg',\n",
       " 'dog.7822.jpg',\n",
       " 'cat.3847.jpg',\n",
       " 'dog.8744.jpg',\n",
       " 'dog.2741.jpg',\n",
       " 'dog.4366.jpg',\n",
       " 'dog.2320.jpg',\n",
       " 'dog.8723.jpg',\n",
       " 'cat.9337.jpg',\n",
       " 'dog.4061.jpg',\n",
       " 'cat.4469.jpg',\n",
       " 'dog.7947.jpg',\n",
       " 'cat.5636.jpg',\n",
       " 'dog.1258.jpg',\n",
       " 'cat.3719.jpg',\n",
       " 'cat.4929.jpg',\n",
       " 'dog.6951.jpg',\n",
       " 'cat.3889.jpg',\n",
       " 'cat.1211.jpg',\n",
       " 'dog.9925.jpg',\n",
       " 'dog.2054.jpg',\n",
       " 'cat.11320.jpg',\n",
       " 'dog.2412.jpg',\n",
       " 'cat.872.jpg',\n",
       " 'dog.8855.jpg',\n",
       " 'cat.12397.jpg',\n",
       " 'cat.9105.jpg',\n",
       " 'dog.10942.jpg',\n",
       " 'dog.10962.jpg',\n",
       " 'cat.9605.jpg',\n",
       " 'cat.1452.jpg',\n",
       " 'dog.10782.jpg',\n",
       " 'cat.1750.jpg',\n",
       " 'cat.9040.jpg',\n",
       " 'dog.10216.jpg',\n",
       " 'cat.4704.jpg',\n",
       " 'cat.5306.jpg',\n",
       " 'dog.6601.jpg',\n",
       " 'cat.3843.jpg',\n",
       " 'cat.285.jpg',\n",
       " 'dog.7784.jpg',\n",
       " 'cat.10830.jpg',\n",
       " 'cat.4021.jpg',\n",
       " 'cat.5993.jpg',\n",
       " 'dog.3384.jpg',\n",
       " 'dog.1354.jpg',\n",
       " 'cat.1441.jpg',\n",
       " 'dog.10186.jpg',\n",
       " 'dog.7008.jpg',\n",
       " 'dog.9651.jpg',\n",
       " 'cat.10087.jpg',\n",
       " 'dog.4259.jpg',\n",
       " 'dog.289.jpg',\n",
       " 'cat.12288.jpg',\n",
       " 'dog.2951.jpg',\n",
       " 'cat.12211.jpg',\n",
       " 'dog.6855.jpg',\n",
       " 'cat.8731.jpg',\n",
       " 'dog.11809.jpg',\n",
       " 'dog.3443.jpg',\n",
       " 'cat.12126.jpg',\n",
       " 'cat.2798.jpg',\n",
       " 'dog.7138.jpg',\n",
       " 'dog.8438.jpg',\n",
       " 'cat.5723.jpg',\n",
       " 'cat.2123.jpg',\n",
       " 'cat.8348.jpg',\n",
       " 'dog.2172.jpg',\n",
       " 'cat.12455.jpg',\n",
       " 'cat.6045.jpg',\n",
       " 'cat.452.jpg',\n",
       " 'dog.8129.jpg',\n",
       " 'cat.11241.jpg',\n",
       " 'cat.10237.jpg',\n",
       " 'dog.388.jpg',\n",
       " 'cat.11132.jpg',\n",
       " 'dog.2493.jpg',\n",
       " 'dog.10151.jpg',\n",
       " 'cat.9354.jpg',\n",
       " 'cat.9562.jpg',\n",
       " 'cat.4244.jpg',\n",
       " 'dog.5385.jpg',\n",
       " 'dog.8677.jpg',\n",
       " 'dog.4820.jpg',\n",
       " 'cat.3661.jpg',\n",
       " 'dog.11252.jpg',\n",
       " 'cat.303.jpg',\n",
       " 'dog.11832.jpg',\n",
       " 'cat.6351.jpg',\n",
       " 'dog.3579.jpg',\n",
       " 'dog.5508.jpg',\n",
       " 'dog.1644.jpg',\n",
       " 'cat.8148.jpg',\n",
       " 'dog.9950.jpg',\n",
       " 'cat.5402.jpg',\n",
       " 'cat.1865.jpg',\n",
       " 'dog.9155.jpg',\n",
       " 'dog.5335.jpg',\n",
       " 'cat.1537.jpg',\n",
       " 'dog.2698.jpg',\n",
       " 'dog.4957.jpg',\n",
       " 'cat.7705.jpg',\n",
       " 'cat.3003.jpg',\n",
       " 'dog.12163.jpg',\n",
       " 'dog.5880.jpg',\n",
       " 'cat.11999.jpg',\n",
       " 'dog.1552.jpg',\n",
       " 'cat.6732.jpg',\n",
       " 'dog.7999.jpg',\n",
       " 'cat.8926.jpg',\n",
       " 'cat.11103.jpg',\n",
       " 'dog.6681.jpg',\n",
       " 'dog.10617.jpg',\n",
       " 'dog.8810.jpg',\n",
       " 'cat.9523.jpg',\n",
       " 'cat.2769.jpg',\n",
       " 'cat.9631.jpg',\n",
       " 'cat.7945.jpg',\n",
       " 'dog.8871.jpg',\n",
       " 'cat.11155.jpg',\n",
       " 'cat.5957.jpg',\n",
       " 'cat.10137.jpg',\n",
       " 'dog.11093.jpg',\n",
       " 'cat.3556.jpg',\n",
       " 'dog.9607.jpg',\n",
       " 'dog.5281.jpg',\n",
       " 'dog.3117.jpg',\n",
       " 'cat.10436.jpg',\n",
       " 'dog.11720.jpg',\n",
       " 'cat.5637.jpg',\n",
       " 'dog.2271.jpg',\n",
       " 'cat.7948.jpg',\n",
       " 'dog.9601.jpg',\n",
       " 'cat.10755.jpg',\n",
       " 'cat.9831.jpg',\n",
       " 'dog.3766.jpg',\n",
       " 'dog.3099.jpg',\n",
       " 'cat.3414.jpg',\n",
       " 'dog.8283.jpg',\n",
       " 'dog.11008.jpg',\n",
       " 'dog.5070.jpg',\n",
       " 'cat.1326.jpg',\n",
       " 'cat.7893.jpg',\n",
       " 'cat.4594.jpg',\n",
       " 'cat.11061.jpg',\n",
       " 'cat.10038.jpg',\n",
       " 'dog.5859.jpg',\n",
       " 'cat.6921.jpg',\n",
       " 'dog.2331.jpg',\n",
       " 'dog.2635.jpg',\n",
       " 'cat.8808.jpg',\n",
       " 'dog.11642.jpg',\n",
       " 'dog.3638.jpg',\n",
       " 'cat.6906.jpg',\n",
       " 'dog.11761.jpg',\n",
       " 'cat.7986.jpg',\n",
       " 'cat.6721.jpg',\n",
       " 'dog.5107.jpg',\n",
       " 'cat.4163.jpg',\n",
       " 'cat.317.jpg',\n",
       " 'dog.8379.jpg',\n",
       " 'dog.6101.jpg',\n",
       " 'dog.11651.jpg',\n",
       " 'cat.1075.jpg',\n",
       " 'cat.8957.jpg',\n",
       " 'cat.1966.jpg',\n",
       " 'dog.3370.jpg',\n",
       " 'cat.10601.jpg',\n",
       " 'cat.4860.jpg',\n",
       " 'dog.455.jpg',\n",
       " 'cat.9870.jpg',\n",
       " 'dog.8274.jpg',\n",
       " 'dog.5122.jpg',\n",
       " 'cat.4252.jpg',\n",
       " 'dog.2156.jpg',\n",
       " 'cat.912.jpg',\n",
       " 'cat.12443.jpg',\n",
       " 'cat.3369.jpg',\n",
       " 'cat.1063.jpg',\n",
       " 'cat.3105.jpg',\n",
       " 'cat.8368.jpg',\n",
       " 'cat.12102.jpg',\n",
       " 'dog.6754.jpg',\n",
       " 'cat.4572.jpg',\n",
       " 'dog.8265.jpg',\n",
       " 'dog.10457.jpg',\n",
       " 'dog.1215.jpg',\n",
       " 'cat.10083.jpg',\n",
       " 'dog.1592.jpg',\n",
       " 'dog.1216.jpg',\n",
       " 'dog.9455.jpg',\n",
       " 'cat.11172.jpg',\n",
       " 'dog.8448.jpg',\n",
       " 'dog.12052.jpg',\n",
       " 'cat.4462.jpg',\n",
       " 'dog.9796.jpg',\n",
       " 'dog.9895.jpg',\n",
       " 'cat.9462.jpg',\n",
       " 'dog.6536.jpg',\n",
       " 'dog.2069.jpg',\n",
       " 'cat.7286.jpg',\n",
       " 'cat.1177.jpg',\n",
       " 'cat.3981.jpg',\n",
       " 'cat.4932.jpg',\n",
       " 'cat.8811.jpg',\n",
       " 'cat.11093.jpg',\n",
       " 'cat.6706.jpg',\n",
       " 'dog.4041.jpg',\n",
       " 'cat.12331.jpg',\n",
       " 'cat.6388.jpg',\n",
       " 'dog.8324.jpg',\n",
       " 'dog.9982.jpg',\n",
       " 'dog.8813.jpg',\n",
       " 'cat.220.jpg',\n",
       " 'cat.6078.jpg',\n",
       " 'dog.9942.jpg',\n",
       " 'dog.7995.jpg',\n",
       " 'dog.1540.jpg',\n",
       " 'dog.8069.jpg',\n",
       " 'dog.1070.jpg',\n",
       " 'dog.3058.jpg',\n",
       " 'dog.5966.jpg',\n",
       " 'cat.10878.jpg',\n",
       " 'dog.5756.jpg',\n",
       " 'dog.2359.jpg',\n",
       " 'dog.1234.jpg',\n",
       " 'cat.679.jpg',\n",
       " 'cat.1959.jpg',\n",
       " 'dog.1716.jpg',\n",
       " 'dog.2143.jpg',\n",
       " 'dog.8011.jpg',\n",
       " 'cat.5430.jpg',\n",
       " 'dog.5296.jpg',\n",
       " 'dog.5274.jpg',\n",
       " 'dog.4902.jpg',\n",
       " 'cat.1222.jpg',\n",
       " 'cat.365.jpg',\n",
       " 'cat.12446.jpg',\n",
       " 'cat.454.jpg',\n",
       " 'cat.3255.jpg',\n",
       " 'cat.9966.jpg',\n",
       " 'cat.10730.jpg',\n",
       " 'cat.7250.jpg',\n",
       " 'dog.5186.jpg',\n",
       " 'dog.2466.jpg',\n",
       " 'dog.6290.jpg',\n",
       " 'cat.5743.jpg',\n",
       " 'dog.281.jpg',\n",
       " 'cat.8118.jpg',\n",
       " 'dog.11679.jpg',\n",
       " 'cat.8070.jpg',\n",
       " 'cat.4620.jpg',\n",
       " 'dog.7190.jpg',\n",
       " 'cat.8308.jpg',\n",
       " 'dog.7216.jpg',\n",
       " 'dog.127.jpg',\n",
       " 'dog.8970.jpg',\n",
       " 'dog.3818.jpg',\n",
       " 'dog.9676.jpg',\n",
       " 'cat.174.jpg',\n",
       " 'cat.7437.jpg',\n",
       " 'cat.8912.jpg',\n",
       " 'cat.7439.jpg',\n",
       " 'dog.6703.jpg',\n",
       " 'dog.10671.jpg',\n",
       " 'dog.5950.jpg',\n",
       " 'dog.936.jpg',\n",
       " 'dog.3197.jpg',\n",
       " 'dog.7408.jpg',\n",
       " 'cat.4291.jpg',\n",
       " 'dog.9049.jpg',\n",
       " 'cat.893.jpg',\n",
       " 'dog.10788.jpg',\n",
       " 'cat.10715.jpg',\n",
       " 'cat.3148.jpg',\n",
       " 'cat.11122.jpg',\n",
       " 'cat.2605.jpg',\n",
       " 'dog.1282.jpg',\n",
       " 'cat.5481.jpg',\n",
       " 'cat.6540.jpg',\n",
       " 'cat.8188.jpg',\n",
       " 'dog.2929.jpg',\n",
       " 'cat.3303.jpg',\n",
       " 'dog.4986.jpg',\n",
       " 'cat.2270.jpg',\n",
       " 'cat.5169.jpg',\n",
       " 'dog.5657.jpg',\n",
       " 'cat.6373.jpg',\n",
       " 'cat.4339.jpg',\n",
       " 'dog.6430.jpg',\n",
       " 'cat.2112.jpg',\n",
       " 'cat.9351.jpg',\n",
       " 'dog.3573.jpg',\n",
       " 'cat.8826.jpg',\n",
       " 'dog.6046.jpg',\n",
       " 'dog.3420.jpg',\n",
       " 'dog.5615.jpg',\n",
       " 'cat.281.jpg',\n",
       " 'cat.3271.jpg',\n",
       " 'dog.9566.jpg',\n",
       " 'dog.8795.jpg',\n",
       " 'cat.3650.jpg',\n",
       " 'cat.2877.jpg',\n",
       " 'cat.1276.jpg',\n",
       " 'dog.5297.jpg',\n",
       " 'dog.12047.jpg',\n",
       " 'cat.12086.jpg',\n",
       " 'dog.11841.jpg',\n",
       " 'dog.4640.jpg',\n",
       " 'dog.10549.jpg',\n",
       " 'cat.3879.jpg',\n",
       " 'dog.9714.jpg',\n",
       " 'dog.9205.jpg',\n",
       " 'cat.6123.jpg',\n",
       " 'dog.4530.jpg',\n",
       " 'cat.3045.jpg',\n",
       " 'dog.10194.jpg',\n",
       " 'cat.6496.jpg',\n",
       " 'dog.7555.jpg',\n",
       " 'cat.5344.jpg',\n",
       " 'dog.10390.jpg',\n",
       " 'cat.2845.jpg',\n",
       " 'cat.11108.jpg',\n",
       " 'cat.7781.jpg',\n",
       " 'cat.6427.jpg',\n",
       " 'cat.12239.jpg',\n",
       " 'cat.4613.jpg',\n",
       " 'cat.1617.jpg',\n",
       " 'cat.10879.jpg',\n",
       " 'cat.8873.jpg',\n",
       " 'cat.890.jpg',\n",
       " 'cat.8344.jpg',\n",
       " 'dog.7909.jpg',\n",
       " 'cat.9715.jpg',\n",
       " 'cat.1247.jpg',\n",
       " 'cat.10478.jpg',\n",
       " 'cat.6303.jpg',\n",
       " 'cat.4286.jpg',\n",
       " 'dog.4116.jpg',\n",
       " 'cat.7969.jpg',\n",
       " 'cat.3876.jpg',\n",
       " 'cat.4574.jpg',\n",
       " 'dog.11655.jpg',\n",
       " 'cat.10835.jpg',\n",
       " 'cat.6234.jpg',\n",
       " 'cat.9286.jpg',\n",
       " 'cat.2141.jpg',\n",
       " 'cat.9406.jpg',\n",
       " 'dog.2880.jpg',\n",
       " 'dog.11179.jpg',\n",
       " 'cat.6672.jpg',\n",
       " 'dog.11486.jpg',\n",
       " 'cat.6498.jpg',\n",
       " 'dog.701.jpg',\n",
       " 'cat.9145.jpg',\n",
       " 'cat.5180.jpg',\n",
       " 'dog.2370.jpg',\n",
       " 'dog.7563.jpg',\n",
       " 'cat.224.jpg',\n",
       " 'dog.5074.jpg',\n",
       " 'dog.10652.jpg',\n",
       " 'cat.10551.jpg',\n",
       " 'dog.5541.jpg',\n",
       " 'cat.11049.jpg',\n",
       " 'dog.3067.jpg',\n",
       " 'dog.3576.jpg',\n",
       " 'dog.12409.jpg',\n",
       " 'cat.3069.jpg',\n",
       " 'dog.10278.jpg',\n",
       " 'dog.5461.jpg',\n",
       " 'cat.8343.jpg',\n",
       " 'dog.1277.jpg',\n",
       " 'dog.6231.jpg',\n",
       " 'cat.6907.jpg',\n",
       " 'dog.1732.jpg',\n",
       " 'dog.11880.jpg',\n",
       " 'cat.2566.jpg',\n",
       " 'cat.7171.jpg',\n",
       " 'cat.5285.jpg',\n",
       " 'cat.7067.jpg',\n",
       " 'dog.1416.jpg',\n",
       " 'dog.8804.jpg',\n",
       " 'dog.3003.jpg',\n",
       " 'cat.10368.jpg',\n",
       " 'dog.8897.jpg',\n",
       " 'dog.12367.jpg',\n",
       " 'dog.7065.jpg',\n",
       " 'dog.5769.jpg',\n",
       " 'cat.8181.jpg',\n",
       " 'dog.7985.jpg',\n",
       " 'dog.4623.jpg',\n",
       " 'cat.7742.jpg',\n",
       " 'cat.10896.jpg',\n",
       " 'cat.6957.jpg',\n",
       " 'cat.769.jpg',\n",
       " 'cat.6121.jpg',\n",
       " 'cat.6136.jpg',\n",
       " 'dog.4165.jpg',\n",
       " 'cat.1174.jpg',\n",
       " 'cat.8900.jpg',\n",
       " 'cat.1912.jpg',\n",
       " 'dog.8849.jpg',\n",
       " 'cat.5232.jpg',\n",
       " 'dog.6313.jpg',\n",
       " 'dog.1156.jpg',\n",
       " 'cat.9035.jpg',\n",
       " 'cat.1783.jpg',\n",
       " 'dog.6050.jpg',\n",
       " 'dog.10242.jpg',\n",
       " 'dog.7341.jpg',\n",
       " 'cat.11260.jpg',\n",
       " 'dog.2556.jpg',\n",
       " 'cat.4635.jpg',\n",
       " 'cat.7884.jpg',\n",
       " 'dog.2122.jpg',\n",
       " 'cat.2635.jpg',\n",
       " 'cat.973.jpg',\n",
       " 'cat.9184.jpg',\n",
       " 'dog.8600.jpg',\n",
       " 'dog.3499.jpg',\n",
       " 'dog.4239.jpg',\n",
       " 'dog.4385.jpg',\n",
       " 'cat.5098.jpg',\n",
       " 'cat.9416.jpg',\n",
       " 'cat.10150.jpg',\n",
       " 'dog.10135.jpg',\n",
       " 'dog.7703.jpg',\n",
       " 'dog.6826.jpg',\n",
       " 'cat.10979.jpg',\n",
       " 'cat.4430.jpg',\n",
       " 'dog.7036.jpg',\n",
       " 'cat.7261.jpg',\n",
       " 'cat.6074.jpg',\n",
       " 'cat.4175.jpg',\n",
       " 'dog.3885.jpg',\n",
       " 'dog.6793.jpg',\n",
       " 'cat.10126.jpg',\n",
       " 'cat.686.jpg',\n",
       " 'dog.11806.jpg',\n",
       " 'dog.12243.jpg',\n",
       " 'dog.11528.jpg',\n",
       " 'cat.5282.jpg',\n",
       " 'cat.3501.jpg',\n",
       " 'cat.5937.jpg',\n",
       " 'dog.10567.jpg',\n",
       " 'cat.10632.jpg',\n",
       " 'cat.3994.jpg',\n",
       " 'dog.9555.jpg',\n",
       " 'cat.1873.jpg',\n",
       " 'dog.6266.jpg',\n",
       " 'dog.7991.jpg',\n",
       " 'cat.5370.jpg',\n",
       " 'dog.11844.jpg',\n",
       " 'dog.10826.jpg',\n",
       " 'cat.6356.jpg',\n",
       " 'dog.8901.jpg',\n",
       " 'cat.6131.jpg',\n",
       " 'cat.3163.jpg',\n",
       " 'dog.6453.jpg',\n",
       " 'dog.6182.jpg',\n",
       " 'dog.10586.jpg',\n",
       " 'cat.4699.jpg',\n",
       " 'dog.1873.jpg',\n",
       " 'dog.6728.jpg',\n",
       " 'dog.9410.jpg',\n",
       " 'cat.5565.jpg',\n",
       " 'cat.6072.jpg',\n",
       " 'cat.7306.jpg',\n",
       " 'dog.763.jpg',\n",
       " 'cat.5016.jpg',\n",
       " 'cat.3826.jpg',\n",
       " 'cat.8578.jpg',\n",
       " 'cat.10220.jpg',\n",
       " 'dog.10636.jpg',\n",
       " 'cat.3033.jpg',\n",
       " 'dog.8232.jpg',\n",
       " 'cat.5368.jpg',\n",
       " 'cat.10774.jpg',\n",
       " 'dog.3691.jpg',\n",
       " 'cat.3943.jpg',\n",
       " 'dog.7242.jpg',\n",
       " 'dog.11415.jpg',\n",
       " 'cat.9573.jpg',\n",
       " 'dog.8246.jpg',\n",
       " 'cat.911.jpg',\n",
       " 'dog.10852.jpg',\n",
       " 'dog.646.jpg',\n",
       " 'dog.8407.jpg',\n",
       " 'dog.12086.jpg',\n",
       " 'cat.1657.jpg',\n",
       " 'dog.11791.jpg',\n",
       " 'dog.3820.jpg',\n",
       " 'cat.3856.jpg',\n",
       " 'cat.10318.jpg',\n",
       " 'cat.3055.jpg',\n",
       " 'cat.3283.jpg',\n",
       " 'dog.2686.jpg',\n",
       " 'dog.3403.jpg',\n",
       " 'cat.7541.jpg',\n",
       " 'cat.3659.jpg',\n",
       " 'dog.3277.jpg',\n",
       " 'dog.881.jpg',\n",
       " 'dog.4914.jpg',\n",
       " 'dog.8631.jpg',\n",
       " 'dog.11451.jpg',\n",
       " 'cat.10479.jpg',\n",
       " 'dog.9810.jpg',\n",
       " 'dog.11552.jpg',\n",
       " 'cat.9915.jpg',\n",
       " 'dog.1553.jpg',\n",
       " 'cat.6589.jpg',\n",
       " 'dog.11344.jpg',\n",
       " 'cat.8433.jpg',\n",
       " 'dog.1160.jpg',\n",
       " 'dog.12479.jpg',\n",
       " 'dog.7125.jpg',\n",
       " 'cat.8306.jpg',\n",
       " 'dog.5861.jpg',\n",
       " 'dog.7331.jpg',\n",
       " 'cat.12058.jpg',\n",
       " 'cat.2571.jpg',\n",
       " 'cat.10616.jpg',\n",
       " 'cat.8177.jpg',\n",
       " 'cat.10955.jpg',\n",
       " 'dog.1616.jpg',\n",
       " 'dog.5701.jpg',\n",
       " 'cat.5424.jpg',\n",
       " 'dog.2455.jpg',\n",
       " 'dog.9817.jpg',\n",
       " 'cat.12218.jpg',\n",
       " 'cat.5320.jpg',\n",
       " 'dog.9483.jpg',\n",
       " 'cat.6170.jpg',\n",
       " 'cat.1149.jpg',\n",
       " 'dog.419.jpg',\n",
       " 'dog.1308.jpg',\n",
       " 'dog.954.jpg',\n",
       " 'dog.11964.jpg',\n",
       " 'cat.10754.jpg',\n",
       " 'dog.12113.jpg',\n",
       " 'cat.9122.jpg',\n",
       " 'cat.9687.jpg',\n",
       " 'dog.6948.jpg',\n",
       " 'cat.10433.jpg',\n",
       " 'cat.12098.jpg',\n",
       " 'cat.9487.jpg',\n",
       " 'dog.7147.jpg',\n",
       " 'dog.4664.jpg',\n",
       " 'cat.1601.jpg',\n",
       " 'cat.882.jpg',\n",
       " 'cat.7992.jpg',\n",
       " 'dog.146.jpg',\n",
       " 'cat.4051.jpg',\n",
       " 'cat.2761.jpg',\n",
       " 'dog.4350.jpg',\n",
       " 'dog.3057.jpg',\n",
       " 'dog.5727.jpg',\n",
       " 'dog.12365.jpg',\n",
       " 'cat.4974.jpg',\n",
       " 'dog.1253.jpg',\n",
       " 'dog.120.jpg',\n",
       " 'cat.4174.jpg',\n",
       " 'dog.4386.jpg',\n",
       " 'cat.8755.jpg',\n",
       " 'cat.3035.jpg',\n",
       " 'cat.1652.jpg',\n",
       " 'dog.8325.jpg',\n",
       " 'cat.8562.jpg',\n",
       " 'cat.9639.jpg',\n",
       " 'dog.5410.jpg',\n",
       " 'dog.427.jpg',\n",
       " 'dog.6831.jpg',\n",
       " 'cat.7295.jpg',\n",
       " 'cat.2257.jpg',\n",
       " 'dog.2102.jpg',\n",
       " 'dog.8162.jpg',\n",
       " 'dog.10181.jpg',\n",
       " 'cat.5028.jpg',\n",
       " 'dog.11953.jpg',\n",
       " 'dog.7464.jpg',\n",
       " 'dog.2664.jpg',\n",
       " 'cat.10225.jpg',\n",
       " 'cat.2981.jpg',\n",
       " 'cat.11221.jpg',\n",
       " 'cat.1303.jpg',\n",
       " 'cat.10792.jpg',\n",
       " 'dog.4698.jpg',\n",
       " 'cat.825.jpg',\n",
       " 'dog.5799.jpg',\n",
       " 'cat.11908.jpg',\n",
       " 'dog.10006.jpg',\n",
       " 'cat.685.jpg',\n",
       " 'cat.9796.jpg',\n",
       " 'cat.7218.jpg',\n",
       " 'dog.5978.jpg',\n",
       " 'dog.11130.jpg',\n",
       " 'cat.11341.jpg',\n",
       " 'dog.7692.jpg',\n",
       " 'cat.277.jpg',\n",
       " 'cat.7348.jpg',\n",
       " 'cat.10804.jpg',\n",
       " 'cat.9206.jpg',\n",
       " 'cat.10801.jpg',\n",
       " 'dog.11626.jpg',\n",
       " 'cat.2543.jpg',\n",
       " 'dog.2444.jpg',\n",
       " 'cat.6247.jpg',\n",
       " 'dog.8854.jpg',\n",
       " 'cat.3998.jpg',\n",
       " 'dog.8920.jpg',\n",
       " 'dog.7094.jpg',\n",
       " 'cat.9321.jpg',\n",
       " 'dog.7862.jpg',\n",
       " 'dog.10233.jpg',\n",
       " 'cat.10292.jpg',\n",
       " 'cat.2604.jpg',\n",
       " 'dog.10838.jpg',\n",
       " 'dog.1306.jpg',\n",
       " 'cat.747.jpg',\n",
       " 'cat.5542.jpg',\n",
       " 'cat.6619.jpg',\n",
       " 'dog.7773.jpg',\n",
       " 'dog.9654.jpg',\n",
       " 'dog.3688.jpg',\n",
       " 'cat.2322.jpg',\n",
       " 'dog.1792.jpg',\n",
       " 'cat.8879.jpg',\n",
       " 'dog.1199.jpg',\n",
       " 'cat.9045.jpg',\n",
       " 'dog.5503.jpg',\n",
       " 'cat.1167.jpg',\n",
       " 'dog.9669.jpg',\n",
       " 'dog.8759.jpg',\n",
       " 'dog.9860.jpg',\n",
       " 'cat.3632.jpg',\n",
       " 'dog.10692.jpg',\n",
       " 'dog.6784.jpg',\n",
       " 'dog.3526.jpg',\n",
       " 'dog.2438.jpg',\n",
       " 'cat.594.jpg',\n",
       " 'dog.2897.jpg',\n",
       " 'dog.12400.jpg',\n",
       " 'cat.9588.jpg',\n",
       " 'cat.1545.jpg',\n",
       " 'dog.4958.jpg',\n",
       " 'dog.764.jpg',\n",
       " 'cat.8185.jpg',\n",
       " 'dog.9729.jpg',\n",
       " 'cat.8566.jpg',\n",
       " 'cat.7110.jpg',\n",
       " 'dog.2602.jpg',\n",
       " 'cat.10322.jpg',\n",
       " 'cat.10473.jpg',\n",
       " 'cat.878.jpg',\n",
       " 'cat.11285.jpg',\n",
       " 'dog.5460.jpg',\n",
       " 'dog.7328.jpg',\n",
       " 'cat.8233.jpg',\n",
       " 'dog.8460.jpg',\n",
       " 'dog.8721.jpg',\n",
       " 'cat.1719.jpg',\n",
       " 'cat.8182.jpg',\n",
       " 'cat.7640.jpg',\n",
       " 'cat.446.jpg',\n",
       " 'dog.6979.jpg',\n",
       " 'dog.12261.jpg',\n",
       " 'cat.7477.jpg',\n",
       " 'cat.8499.jpg',\n",
       " 'dog.11941.jpg',\n",
       " 'dog.8532.jpg',\n",
       " 'cat.5747.jpg',\n",
       " 'cat.12377.jpg',\n",
       " 'dog.5676.jpg',\n",
       " 'dog.12000.jpg',\n",
       " 'cat.7195.jpg',\n",
       " 'cat.7774.jpg',\n",
       " 'cat.8965.jpg',\n",
       " 'cat.3074.jpg',\n",
       " 'cat.1841.jpg',\n",
       " 'dog.1242.jpg',\n",
       " 'cat.7447.jpg',\n",
       " 'cat.2689.jpg',\n",
       " 'cat.7395.jpg',\n",
       " 'dog.7493.jpg',\n",
       " 'cat.10259.jpg',\n",
       " 'cat.9459.jpg',\n",
       " 'dog.1949.jpg',\n",
       " 'dog.11345.jpg',\n",
       " 'cat.9159.jpg',\n",
       " 'cat.4428.jpg',\n",
       " 'dog.9031.jpg',\n",
       " 'dog.6573.jpg',\n",
       " 'dog.4930.jpg',\n",
       " 'dog.10033.jpg',\n",
       " 'cat.7570.jpg',\n",
       " 'dog.12323.jpg',\n",
       " ...]"
      ]
     },
     "execution_count": 78,
     "metadata": {},
     "output_type": "execute_result"
    }
   ],
   "source": [
    "all_files"
   ]
  },
  {
   "cell_type": "markdown",
   "metadata": {},
   "source": [
    "### Exercise 1\n",
    "Retrieve a list with only dog files."
   ]
  },
  {
   "cell_type": "markdown",
   "metadata": {},
   "source": [
    " ### Exercise 2\n",
    " Display an image using `Image` function from `Ipython.display`. (try to find help with google!)"
   ]
  },
  {
   "cell_type": "markdown",
   "metadata": {},
   "source": [
    "### Exercise 3\n",
    "Create a function that download and unzip the data. Put that function in a file under the current directory. Import the module and run the function."
   ]
  },
  {
   "cell_type": "markdown",
   "metadata": {},
   "source": [
    "## Appendix A: Dictionary\n",
    "Hash structure $\\longrightarrow$ equivalent to MATLAB structs."
   ]
  },
  {
   "cell_type": "code",
   "execution_count": 71,
   "metadata": {
    "collapsed": true
   },
   "outputs": [],
   "source": [
    "cosas = {\"metodo\": \"cnn\", \"numero_imagenes\": 200, \n",
    "         \"regresores\": [\"TOA_REFL_RED\",\"TOA_REFL_BLUE\"]}"
   ]
  },
  {
   "cell_type": "code",
   "execution_count": 72,
   "metadata": {
    "collapsed": false
   },
   "outputs": [
    {
     "data": {
      "text/plain": [
       "'cnn'"
      ]
     },
     "execution_count": 72,
     "metadata": {},
     "output_type": "execute_result"
    }
   ],
   "source": [
    "cosas[\"metodo\"]"
   ]
  },
  {
   "cell_type": "code",
   "execution_count": 73,
   "metadata": {
    "collapsed": false
   },
   "outputs": [
    {
     "name": "stdout",
     "output_type": "stream",
     "text": [
      "regresores: ['TOA_REFL_RED', 'TOA_REFL_BLUE']\n",
      "numero_imagenes: 200\n",
      "metodo: cnn\n"
     ]
    }
   ],
   "source": [
    "for k,v in cosas.items():\n",
    "    print(\"{}: {}\".format(k,v))\n"
   ]
  },
  {
   "cell_type": "code",
   "execution_count": 74,
   "metadata": {
    "collapsed": false
   },
   "outputs": [
    {
     "name": "stdout",
     "output_type": "stream",
     "text": [
      "['regresores', 'numero_imagenes', 'metodo']\n"
     ]
    },
    {
     "data": {
      "text/plain": [
       "[['TOA_REFL_RED', 'TOA_REFL_BLUE'], 200, 'cnn']"
      ]
     },
     "execution_count": 74,
     "metadata": {},
     "output_type": "execute_result"
    }
   ],
   "source": [
    "print(list(cosas.keys()))\n",
    "list(cosas.values())"
   ]
  },
  {
   "cell_type": "code",
   "execution_count": 75,
   "metadata": {
    "collapsed": false
   },
   "outputs": [
    {
     "data": {
      "text/plain": [
       "{'lambda': 0.4,\n",
       " 'metodo': 'cnn',\n",
       " 'numero_imagenes': 200,\n",
       " 'regresores': ['TOA_REFL_RED', 'TOA_REFL_BLUE']}"
      ]
     },
     "execution_count": 75,
     "metadata": {},
     "output_type": "execute_result"
    }
   ],
   "source": [
    "cosas[\"lambda\"] = .4\n",
    "cosas"
   ]
  },
  {
   "cell_type": "code",
   "execution_count": 76,
   "metadata": {
    "collapsed": false
   },
   "outputs": [
    {
     "data": {
      "text/plain": [
       "{'lambda': 0.4,\n",
       " 'metodo': 'cnn',\n",
       " 'numero_imagenes': 200,\n",
       " 'regresores': ['TOA_REFL_RED', 'TOA_REFL_BLUE']}"
      ]
     },
     "execution_count": 76,
     "metadata": {},
     "output_type": "execute_result"
    }
   ],
   "source": [
    "import json\n",
    "# Serialize dicts and lists with json very typical in web pages!\n",
    "\n",
    "with open(\"salida.json\",\"w\") as f:\n",
    "    json.dump(cosas,f)\n",
    "\n",
    "with open(\"salida.json\",\"r\") as r:\n",
    "    cosas2 = json.load(r)\n",
    "    \n",
    "cosas2"
   ]
  },
  {
   "cell_type": "markdown",
   "metadata": {},
   "source": [
    "## Appendix B: Classes\n",
    "*Everything* in python is an object. Easy to use."
   ]
  },
  {
   "cell_type": "code",
   "execution_count": 62,
   "metadata": {
    "collapsed": false
   },
   "outputs": [
    {
     "data": {
      "text/plain": [
       "'dog'"
      ]
     },
     "execution_count": 62,
     "metadata": {},
     "output_type": "execute_result"
    }
   ],
   "source": [
    "# Class names use to be capitalized and CamelCase.\n",
    "class AnimalImage():\n",
    "    def __init__(self,path_to_image):\n",
    "        self.path_to_image = path_to_image\n",
    "    \n",
    "    def animal(self,a=6): # method and functions names tend to be not capitalized\n",
    "        if 'dog' in self.path_to_image:\n",
    "            return 'dog'\n",
    "        if 'cat' in self.path_to_image:\n",
    "            return 'cat'\n",
    "\n",
    "beast = AnimalImage(\"imagenes/dog.12258.jpg\")\n",
    "\n",
    "beast.animal(6)\n",
    "\n",
    "AnimalImage.animal(beast)"
   ]
  },
  {
   "cell_type": "code",
   "execution_count": 58,
   "metadata": {
    "collapsed": false
   },
   "outputs": [
    {
     "name": "stdout",
     "output_type": "stream",
     "text": [
      "<__main__.AnimalImage object at 0x7f17d36fe470>\n"
     ]
    }
   ],
   "source": [
    "print(beast)"
   ]
  },
  {
   "cell_type": "code",
   "execution_count": 59,
   "metadata": {
    "collapsed": false
   },
   "outputs": [
    {
     "name": "stdout",
     "output_type": "stream",
     "text": [
      "dog\n"
     ]
    }
   ],
   "source": [
    "# Overloading operators\n",
    "class AnimalImage():\n",
    "    def __init__(self,path_to_image):\n",
    "        self.path_to_image = path_to_image\n",
    "    def animal(self): # method and functions names tend to be not capitalized\n",
    "        if 'dog' in self.path_to_image:\n",
    "            return 'dog'\n",
    "        if 'cat' in self.path_to_image:\n",
    "            return 'cat'\n",
    "    def __str__(self): # overloading of operator (http://www.programiz.com/python-programming/operator-overloading)\n",
    "        return self.animal()\n",
    "    \n",
    "    #def __add__(self,other):\n",
    "    #    ....\n",
    "\n",
    "beast = AnimalImage(\"imagenes/dog.12258.jpg\")\n",
    "print(beast)"
   ]
  },
  {
   "cell_type": "code",
   "execution_count": 60,
   "metadata": {
    "collapsed": false
   },
   "outputs": [
    {
     "name": "stdout",
     "output_type": "stream",
     "text": [
      "IMAGENES/DOG.12258.JPG\n"
     ]
    },
    {
     "data": {
      "text/plain": [
       "'dog'"
      ]
     },
     "execution_count": 60,
     "metadata": {},
     "output_type": "execute_result"
    }
   ],
   "source": [
    "# Inheritance\n",
    "class AnimalImage(str):\n",
    "     def __init__(self,path_to_image):\n",
    "        self.path_to_image = path_to_image\n",
    "        super(AnimalImage, self).__init__()\n",
    "    \n",
    "     def animal(self): \n",
    "        if 'dog' in os.path.basename(self.path_to_image):\n",
    "            return 'dog'\n",
    "        if 'cat' in os.path.basename(self.path_to_image):\n",
    "            return 'cat'\n",
    "\n",
    "animalillo = AnimalImage(\"imagenes/dog.12258.jpg\")\n",
    "\n",
    "print(animalillo.upper())\n",
    "animalillo.animal()\n"
   ]
  }
 ],
 "metadata": {
  "anaconda-cloud": {},
  "kernelspec": {
   "display_name": "Python [conda env:python_course]",
   "language": "python",
   "name": "conda-env-python_course-py"
  },
  "language_info": {
   "codemirror_mode": {
    "name": "ipython",
    "version": 3
   },
   "file_extension": ".py",
   "mimetype": "text/x-python",
   "name": "python",
   "nbconvert_exporter": "python",
   "pygments_lexer": "ipython3",
   "version": "3.5.2"
  }
 },
 "nbformat": 4,
 "nbformat_minor": 1
}
